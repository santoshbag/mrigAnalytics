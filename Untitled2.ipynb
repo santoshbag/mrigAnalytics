{
 "cells": [
  {
   "cell_type": "code",
   "execution_count": 13,
   "metadata": {
    "collapsed": true
   },
   "outputs": [],
   "source": [
    "import stockScreener as ss"
   ]
  },
  {
   "cell_type": "code",
   "execution_count": 16,
   "metadata": {
    "collapsed": true
   },
   "outputs": [],
   "source": [
    "bigM = ss.big_money_zack()"
   ]
  },
  {
   "cell_type": "code",
   "execution_count": 17,
   "metadata": {
    "collapsed": false
   },
   "outputs": [
    {
     "data": {
      "text/html": [
       "<div>\n",
       "<table border=\"1\" class=\"dataframe\">\n",
       "  <thead>\n",
       "    <tr style=\"text-align: right;\">\n",
       "      <th></th>\n",
       "      <th>ret24W</th>\n",
       "      <th>ret12W</th>\n",
       "      <th>ret4W</th>\n",
       "    </tr>\n",
       "    <tr>\n",
       "      <th>symbol</th>\n",
       "      <th></th>\n",
       "      <th></th>\n",
       "      <th></th>\n",
       "    </tr>\n",
       "  </thead>\n",
       "  <tbody>\n",
       "    <tr>\n",
       "      <th>SPLIL</th>\n",
       "      <td>1.066842</td>\n",
       "      <td>0.620316</td>\n",
       "      <td>0.289515</td>\n",
       "    </tr>\n",
       "    <tr>\n",
       "      <th>PFC</th>\n",
       "      <td>0.325244</td>\n",
       "      <td>0.299943</td>\n",
       "      <td>0.238767</td>\n",
       "    </tr>\n",
       "    <tr>\n",
       "      <th>PRAJIND</th>\n",
       "      <td>0.535790</td>\n",
       "      <td>0.256976</td>\n",
       "      <td>0.238397</td>\n",
       "    </tr>\n",
       "    <tr>\n",
       "      <th>HDIL</th>\n",
       "      <td>0.368716</td>\n",
       "      <td>0.328306</td>\n",
       "      <td>0.166406</td>\n",
       "    </tr>\n",
       "    <tr>\n",
       "      <th>ORIENTBANK</th>\n",
       "      <td>0.304660</td>\n",
       "      <td>0.422272</td>\n",
       "      <td>0.108733</td>\n",
       "    </tr>\n",
       "    <tr>\n",
       "      <th>ICICIBANK</th>\n",
       "      <td>0.323357</td>\n",
       "      <td>0.186917</td>\n",
       "      <td>0.081064</td>\n",
       "    </tr>\n",
       "    <tr>\n",
       "      <th>BATAINDIA</th>\n",
       "      <td>0.266767</td>\n",
       "      <td>0.245978</td>\n",
       "      <td>0.075264</td>\n",
       "    </tr>\n",
       "    <tr>\n",
       "      <th>BALRAMCHIN</th>\n",
       "      <td>0.500116</td>\n",
       "      <td>0.163215</td>\n",
       "      <td>0.034718</td>\n",
       "    </tr>\n",
       "    <tr>\n",
       "      <th>DIVISLAB</th>\n",
       "      <td>0.326473</td>\n",
       "      <td>0.155719</td>\n",
       "      <td>-0.005542</td>\n",
       "    </tr>\n",
       "    <tr>\n",
       "      <th>USHAMART</th>\n",
       "      <td>0.266969</td>\n",
       "      <td>0.157218</td>\n",
       "      <td>-0.175149</td>\n",
       "    </tr>\n",
       "  </tbody>\n",
       "</table>\n",
       "</div>"
      ],
      "text/plain": [
       "              ret24W    ret12W     ret4W\n",
       "symbol                                  \n",
       "SPLIL       1.066842  0.620316  0.289515\n",
       "PFC         0.325244  0.299943  0.238767\n",
       "PRAJIND     0.535790  0.256976  0.238397\n",
       "HDIL        0.368716  0.328306  0.166406\n",
       "ORIENTBANK  0.304660  0.422272  0.108733\n",
       "ICICIBANK   0.323357  0.186917  0.081064\n",
       "BATAINDIA   0.266767  0.245978  0.075264\n",
       "BALRAMCHIN  0.500116  0.163215  0.034718\n",
       "DIVISLAB    0.326473  0.155719 -0.005542\n",
       "USHAMART    0.266969  0.157218 -0.175149"
      ]
     },
     "execution_count": 17,
     "metadata": {},
     "output_type": "execute_result"
    }
   ],
   "source": [
    "bigM"
   ]
  },
  {
   "cell_type": "code",
   "execution_count": null,
   "metadata": {
    "collapsed": true
   },
   "outputs": [],
   "source": []
  }
 ],
 "metadata": {
  "kernelspec": {
   "display_name": "Python 3",
   "language": "python",
   "name": "python3"
  },
  "language_info": {
   "codemirror_mode": {
    "name": "ipython",
    "version": 3
   },
   "file_extension": ".py",
   "mimetype": "text/x-python",
   "name": "python",
   "nbconvert_exporter": "python",
   "pygments_lexer": "ipython3",
   "version": "3.6.0"
  }
 },
 "nbformat": 4,
 "nbformat_minor": 2
}
