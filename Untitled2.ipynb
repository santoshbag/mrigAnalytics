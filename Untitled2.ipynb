{
 "cells": [
  {
   "cell_type": "code",
   "execution_count": 24,
   "metadata": {},
   "outputs": [
    {
     "name": "stdout",
     "output_type": "stream",
     "text": [
      "[*********************100%***********************]  1 of 1 completed\n",
      "                   High          Low        Close  SUPERT_7_3.0  MACD_12_26_9  \\\n",
      "Date                                                                            \n",
      "2023-07-18  1704.000000  1675.099976  1678.349976   1731.265007      8.079034   \n",
      "2023-07-17  1682.000000  1633.000000  1678.900024   1731.265007      6.952024   \n",
      "2023-07-14  1653.599976  1635.000000  1644.500000   1731.265007      5.356424   \n",
      "2023-07-13  1657.449951  1638.050049  1641.099976   1739.909201      6.744494   \n",
      "2023-07-12  1666.300049  1627.150024  1632.949951   1741.994104      8.764260   \n",
      "\n",
      "            MACDh_12_26_9  MACDs_12_26_9  \n",
      "Date                                      \n",
      "2023-07-18      -0.840999       8.920033  \n",
      "2023-07-17      -2.178259       9.130282  \n",
      "2023-07-14      -4.318423       9.674847  \n",
      "2023-07-13      -4.009958      10.754453  \n",
      "2023-07-12      -2.992682      11.756942  \n"
     ]
    }
   ],
   "source": [
    "import talib\n",
    "import pandas as pd\n",
    "import pandas_ta as pta\n",
    "import yfinance as yf\n",
    "\n",
    "# Define the input data\n",
    "data = pd.DataFrame({\n",
    "    'date': ['2022-01-01', '2022-01-02', '2022-01-03', '2022-01-04', '2022-01-05', '2022-01-06', '2022-01-07'],\n",
    "    'high': [100, 110, 120, 115, 112, 108, 118],\n",
    "    'low': [90, 95, 100, 92, 95, 88, 100],\n",
    "    'close': [95, 105, 115, 108, 105, 95, 112]\n",
    "})\n",
    "\n",
    "data = yf.download('HDFCBANK.NS',period='6mo')[['High','Low','Close']]\n",
    "#print(data1)\n",
    "\n",
    "# Convert the input data to numpy arrays\n",
    "high = data['High']\n",
    "low = data['Low']\n",
    "close = data['Close']\n",
    "\n",
    "\n",
    "# Calculate the Supertrend indicator\n",
    "supertrend = pta.supertrend(high, low, close, period=7, multiplier=3)\n",
    "data = pd.merge(data,supertrend['SUPERT_7_3.0'],left_index=True,right_index=True)\n",
    "# Append the Supertrend values to the dataframe\n",
    "#data['supertrend'] = supertrend\n",
    "macd = pta.macd(close)\n",
    "data = pd.merge(data,macd,left_index=True,right_index=True)\n",
    "\n",
    "print(data.tail(5).sort_index(ascending=False))"
   ]
  },
  {
   "cell_type": "code",
   "execution_count": 16,
   "metadata": {
    "collapsed": true
   },
   "outputs": [],
   "source": []
  },
  {
   "cell_type": "code",
   "execution_count": 17,
   "metadata": {},
   "outputs": [
    {
     "data": {
      "text/html": [
       "<div>\n",
       "<table border=\"1\" class=\"dataframe\">\n",
       "  <thead>\n",
       "    <tr style=\"text-align: right;\">\n",
       "      <th></th>\n",
       "      <th>ret24W</th>\n",
       "      <th>ret12W</th>\n",
       "      <th>ret4W</th>\n",
       "    </tr>\n",
       "    <tr>\n",
       "      <th>symbol</th>\n",
       "      <th></th>\n",
       "      <th></th>\n",
       "      <th></th>\n",
       "    </tr>\n",
       "  </thead>\n",
       "  <tbody>\n",
       "    <tr>\n",
       "      <th>SPLIL</th>\n",
       "      <td>1.066842</td>\n",
       "      <td>0.620316</td>\n",
       "      <td>0.289515</td>\n",
       "    </tr>\n",
       "    <tr>\n",
       "      <th>PFC</th>\n",
       "      <td>0.325244</td>\n",
       "      <td>0.299943</td>\n",
       "      <td>0.238767</td>\n",
       "    </tr>\n",
       "    <tr>\n",
       "      <th>PRAJIND</th>\n",
       "      <td>0.535790</td>\n",
       "      <td>0.256976</td>\n",
       "      <td>0.238397</td>\n",
       "    </tr>\n",
       "    <tr>\n",
       "      <th>HDIL</th>\n",
       "      <td>0.368716</td>\n",
       "      <td>0.328306</td>\n",
       "      <td>0.166406</td>\n",
       "    </tr>\n",
       "    <tr>\n",
       "      <th>ORIENTBANK</th>\n",
       "      <td>0.304660</td>\n",
       "      <td>0.422272</td>\n",
       "      <td>0.108733</td>\n",
       "    </tr>\n",
       "    <tr>\n",
       "      <th>ICICIBANK</th>\n",
       "      <td>0.323357</td>\n",
       "      <td>0.186917</td>\n",
       "      <td>0.081064</td>\n",
       "    </tr>\n",
       "    <tr>\n",
       "      <th>BATAINDIA</th>\n",
       "      <td>0.266767</td>\n",
       "      <td>0.245978</td>\n",
       "      <td>0.075264</td>\n",
       "    </tr>\n",
       "    <tr>\n",
       "      <th>BALRAMCHIN</th>\n",
       "      <td>0.500116</td>\n",
       "      <td>0.163215</td>\n",
       "      <td>0.034718</td>\n",
       "    </tr>\n",
       "    <tr>\n",
       "      <th>DIVISLAB</th>\n",
       "      <td>0.326473</td>\n",
       "      <td>0.155719</td>\n",
       "      <td>-0.005542</td>\n",
       "    </tr>\n",
       "    <tr>\n",
       "      <th>USHAMART</th>\n",
       "      <td>0.266969</td>\n",
       "      <td>0.157218</td>\n",
       "      <td>-0.175149</td>\n",
       "    </tr>\n",
       "  </tbody>\n",
       "</table>\n",
       "</div>"
      ],
      "text/plain": [
       "              ret24W    ret12W     ret4W\n",
       "symbol                                  \n",
       "SPLIL       1.066842  0.620316  0.289515\n",
       "PFC         0.325244  0.299943  0.238767\n",
       "PRAJIND     0.535790  0.256976  0.238397\n",
       "HDIL        0.368716  0.328306  0.166406\n",
       "ORIENTBANK  0.304660  0.422272  0.108733\n",
       "ICICIBANK   0.323357  0.186917  0.081064\n",
       "BATAINDIA   0.266767  0.245978  0.075264\n",
       "BALRAMCHIN  0.500116  0.163215  0.034718\n",
       "DIVISLAB    0.326473  0.155719 -0.005542\n",
       "USHAMART    0.266969  0.157218 -0.175149"
      ]
     },
     "execution_count": 17,
     "metadata": {},
     "output_type": "execute_result"
    }
   ],
   "source": []
  },
  {
   "cell_type": "code",
   "execution_count": null,
   "metadata": {
    "collapsed": true
   },
   "outputs": [],
   "source": []
  }
 ],
 "metadata": {
  "kernelspec": {
   "display_name": "Python 3 (ipykernel)",
   "language": "python",
   "name": "python3"
  },
  "language_info": {
   "codemirror_mode": {
    "name": "ipython",
    "version": 3
   },
   "file_extension": ".py",
   "mimetype": "text/x-python",
   "name": "python",
   "nbconvert_exporter": "python",
   "pygments_lexer": "ipython3",
   "version": "3.9.12"
  }
 },
 "nbformat": 4,
 "nbformat_minor": 2
}
