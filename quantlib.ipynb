{
 "cells": [
  {
   "cell_type": "code",
   "execution_count": 2,
   "id": "65f73182-60c9-41a2-9bd7-ef3ab50e6584",
   "metadata": {},
   "outputs": [],
   "source": [
    "import sys,os\n",
    "\n",
    "\n",
    "import mrigutilities as mu\n",
    "import datetime, dateutil\n",
    "import pandas as pd\n",
    "import instruments.options as options\n",
    "import instruments.futures as futures\n",
    "import instruments.termstructure as ts\n",
    "import instruments.qlMaps as qlMaps"
   ]
  },
  {
   "cell_type": "code",
   "execution_count": 11,
   "id": "6c6850e6-b3ba-455b-8603-93e74d82dded",
   "metadata": {},
   "outputs": [
    {
     "name": "stdout",
     "output_type": "stream",
     "text": [
      "{'day_count': <QuantLib.QuantLib.Thirty360; proxy of <Swig Object of type 'QuantLib::Thirty360 *' at 0x0000010622ADED90> >, 'calendar': <QuantLib.QuantLib.India; proxy of <Swig Object of type 'QuantLib::India *' at 0x0000010622ADECA0> >, 'compounding': 1, 'compounding_frequency': 1, 'interpolation': <QuantLib.QuantLib.Linear; proxy of <Swig Object of type 'Linear *' at 0x0000010622ADEE50> >, 'shiftparameter': None}\n",
      "2024-05-13\n"
     ]
    },
    {
     "data": {
      "text/plain": [
       "0.012915614279791043"
      ]
     },
     "execution_count": 11,
     "metadata": {},
     "output_type": "execute_result"
    }
   ],
   "source": [
    "args = {'day_count':'30-360',\n",
    "        'calendar': 'India',\n",
    "        'compounding' : 'Compounded',\n",
    "        'compounding_frequency' :'Annual',\n",
    "        'interpolation' : 'Linear',\n",
    "        'shiftparameter' : None}\n",
    "\n",
    "if mu.args_inspector(args)[0]:\n",
    "    for arg_name in args:\n",
    "        try:\n",
    "            args[arg_name] = qlMaps.QL[args[arg_name]]\n",
    "        except:\n",
    "            pass\n",
    "\n",
    "print(args)\n",
    "today = datetime.date.today()\n",
    "\n",
    "engine = mu.sql_engine()\n",
    "try:\n",
    "    today = engine.execute(\"select curvedate from yieldcurve where curve='INR' order by curvedate desc limit 1\").fetchall()[0][0]\n",
    "except:\n",
    "    pass\n",
    "print(today)\n",
    "discount_curve = ts.SpotZeroYieldCurve('INR',today)\n",
    "# discount_curve = ts.FlatForwardYieldCurve(today,0.06)\n",
    "discount_curve.setupCurve(args)\n",
    "discount_curve.getZeroRate(datetime.date(2024,5,30))"
   ]
  }
 ],
 "metadata": {
  "kernelspec": {
   "display_name": "Python 3 (ipykernel)",
   "language": "python",
   "name": "python3"
  },
  "language_info": {
   "codemirror_mode": {
    "name": "ipython",
    "version": 3
   },
   "file_extension": ".py",
   "mimetype": "text/x-python",
   "name": "python",
   "nbconvert_exporter": "python",
   "pygments_lexer": "ipython3",
   "version": "3.11.7"
  }
 },
 "nbformat": 4,
 "nbformat_minor": 5
}
