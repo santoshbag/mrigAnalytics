{
 "cells": [
  {
   "cell_type": "code",
   "execution_count": 5,
   "id": "65f73182-60c9-41a2-9bd7-ef3ab50e6584",
   "metadata": {},
   "outputs": [],
   "source": [
    "import QuantLib as ql"
   ]
  },
  {
   "cell_type": "code",
   "execution_count": null,
   "id": "6c6850e6-b3ba-455b-8603-93e74d82dded",
   "metadata": {},
   "outputs": [],
   "source": [
    "ql.ana"
   ]
  }
 ],
 "metadata": {
  "kernelspec": {
   "display_name": "Python 3 (ipykernel)",
   "language": "python",
   "name": "python3"
  },
  "language_info": {
   "codemirror_mode": {
    "name": "ipython",
    "version": 3
   },
   "file_extension": ".py",
   "mimetype": "text/x-python",
   "name": "python",
   "nbconvert_exporter": "python",
   "pygments_lexer": "ipython3",
   "version": "3.11.7"
  }
 },
 "nbformat": 4,
 "nbformat_minor": 5
}
