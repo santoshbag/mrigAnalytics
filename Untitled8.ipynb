{
 "cells": [
  {
   "cell_type": "code",
   "execution_count": 2,
   "metadata": {
    "collapsed": true
   },
   "outputs": [],
   "source": [
    "import strategies.stocks as st\n",
    "nifty = st.Index('NIFTY 50')"
   ]
  },
  {
   "cell_type": "code",
   "execution_count": 3,
   "metadata": {
    "collapsed": true
   },
   "outputs": [],
   "source": [
    "oc = nifty.optionChain()"
   ]
  },
  {
   "cell_type": "code",
   "execution_count": 54,
   "metadata": {
    "collapsed": false
   },
   "outputs": [
    {
     "data": {
      "text/plain": [
       "Index(['CALL_OI', 'CALL_Chng_in_OI', 'CALL_Volume', 'CALL_IV', 'CALL_LTP',\n",
       "       'CALL_Net_Chng', 'CALL_BidQty', 'CALL_BidPrice', 'CALL_AskPrice',\n",
       "       'CALL_AskQty', 'Strike_Price', 'PUT_BidQty', 'PUT_BidPrice',\n",
       "       'PUT_AskPrice', 'PUT_AskQty', 'PUT_Net_Chng', 'PUT_LTP', 'PUT_IV',\n",
       "       'PUT_Volume', 'PUT_Chng_in_OI', 'PUT_OI'],\n",
       "      dtype='object')"
      ]
     },
     "execution_count": 54,
     "metadata": {},
     "output_type": "execute_result"
    }
   ],
   "source": [
    "oc.columns"
   ]
  },
  {
   "cell_type": "code",
   "execution_count": 52,
   "metadata": {
    "collapsed": false
   },
   "outputs": [],
   "source": [
    "import datetime\n",
    "oc_1 = oc[oc['CALL_OI'] > oc['PUT_OI']][['Strike_Price','CALL_OI','PUT_OI']].loc[datetime.date(2020,4,9)]"
   ]
  },
  {
   "cell_type": "code",
   "execution_count": 64,
   "metadata": {
    "collapsed": false
   },
   "outputs": [],
   "source": [
    "import pandas as pd\n",
    "oc = oc.apply(pd.to_numeric, errors='coerce')"
   ]
  },
  {
   "cell_type": "code",
   "execution_count": 72,
   "metadata": {
    "collapsed": false
   },
   "outputs": [
    {
     "data": {
      "text/html": [
       "<div>\n",
       "<table border=\"1\" class=\"dataframe\">\n",
       "  <thead>\n",
       "    <tr style=\"text-align: right;\">\n",
       "      <th></th>\n",
       "      <th>Strike_Price</th>\n",
       "      <th>CALL_OI</th>\n",
       "      <th>PUT_OI</th>\n",
       "    </tr>\n",
       "    <tr>\n",
       "      <th>Expiry</th>\n",
       "      <th></th>\n",
       "      <th></th>\n",
       "      <th></th>\n",
       "    </tr>\n",
       "  </thead>\n",
       "  <tbody>\n",
       "    <tr>\n",
       "      <th>2020-04-30</th>\n",
       "      <td>10000.0</td>\n",
       "      <td>1570650.0</td>\n",
       "      <td>579525.0</td>\n",
       "    </tr>\n",
       "    <tr>\n",
       "      <th>2020-04-30</th>\n",
       "      <td>9000.0</td>\n",
       "      <td>1650675.0</td>\n",
       "      <td>1313850.0</td>\n",
       "    </tr>\n",
       "  </tbody>\n",
       "</table>\n",
       "</div>"
      ],
      "text/plain": [
       "            Strike_Price    CALL_OI     PUT_OI\n",
       "Expiry                                        \n",
       "2020-04-30       10000.0  1570650.0   579525.0\n",
       "2020-04-30        9000.0  1650675.0  1313850.0"
      ]
     },
     "execution_count": 72,
     "metadata": {},
     "output_type": "execute_result"
    }
   ],
   "source": [
    "oc[oc['CALL_OI'] > oc['PUT_OI']][['Strike_Price','CALL_OI','PUT_OI']].loc[datetime.date(2020,4,30)].sort_values(by=['CALL_OI']).tail(2)"
   ]
  },
  {
   "cell_type": "code",
   "execution_count": 73,
   "metadata": {
    "collapsed": false
   },
   "outputs": [
    {
     "data": {
      "text/html": [
       "<div>\n",
       "<table border=\"1\" class=\"dataframe\">\n",
       "  <thead>\n",
       "    <tr style=\"text-align: right;\">\n",
       "      <th></th>\n",
       "      <th>Strike_Price</th>\n",
       "      <th>CALL_OI</th>\n",
       "      <th>PUT_OI</th>\n",
       "    </tr>\n",
       "    <tr>\n",
       "      <th>Expiry</th>\n",
       "      <th></th>\n",
       "      <th></th>\n",
       "      <th></th>\n",
       "    </tr>\n",
       "  </thead>\n",
       "  <tbody>\n",
       "    <tr>\n",
       "      <th>2020-04-30</th>\n",
       "      <td>7500.0</td>\n",
       "      <td>322800.0</td>\n",
       "      <td>2097525.0</td>\n",
       "    </tr>\n",
       "    <tr>\n",
       "      <th>2020-04-30</th>\n",
       "      <td>8000.0</td>\n",
       "      <td>783975.0</td>\n",
       "      <td>2227950.0</td>\n",
       "    </tr>\n",
       "  </tbody>\n",
       "</table>\n",
       "</div>"
      ],
      "text/plain": [
       "            Strike_Price   CALL_OI     PUT_OI\n",
       "Expiry                                       \n",
       "2020-04-30        7500.0  322800.0  2097525.0\n",
       "2020-04-30        8000.0  783975.0  2227950.0"
      ]
     },
     "execution_count": 73,
     "metadata": {},
     "output_type": "execute_result"
    }
   ],
   "source": [
    "oc[oc['CALL_OI'] < oc['PUT_OI']][['Strike_Price','CALL_OI','PUT_OI']].loc[datetime.date(2020,4,30)].sort_values(by=['PUT_OI']).tail(2)"
   ]
  }
 ],
 "metadata": {
  "kernelspec": {
   "display_name": "Python 3",
   "language": "python",
   "name": "python3"
  },
  "language_info": {
   "codemirror_mode": {
    "name": "ipython",
    "version": 3
   },
   "file_extension": ".py",
   "mimetype": "text/x-python",
   "name": "python",
   "nbconvert_exporter": "python",
   "pygments_lexer": "ipython3",
   "version": "3.6.0"
  }
 },
 "nbformat": 4,
 "nbformat_minor": 2
}
