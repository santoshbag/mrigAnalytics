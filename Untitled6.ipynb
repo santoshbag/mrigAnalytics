{
 "cells": [
  {
   "cell_type": "code",
   "execution_count": null,
   "metadata": {
    "collapsed": false
   },
   "outputs": [
    {
     "name": "stderr",
     "output_type": "stream",
     "text": [
      "F:\\Mrig Analytics\\Development\\mrigAnalytics\\mrigutilities.py:289: SettingWithCopyWarning: \n",
      "A value is trying to be set on a copy of a slice from a DataFrame\n",
      "\n",
      "See the caveats in the documentation: http://pandas.pydata.org/pandas-docs/stable/indexing.html#indexing-view-versus-copy\n",
      "  stock_df.iloc[i]['date'] = datetime.datetime.combine(stock_df.iloc[i]['date'], datetime.time())\n"
     ]
    }
   ],
   "source": [
    "import datetime\n",
    "import pandas as pd\n",
    "import mrigutilities as mu\n",
    "\n",
    "ed = datetime.date.today()\n",
    "sd = datetime.date(2020,2,21)\n",
    "nifty = mu.getStockData('NIFTY 50',sd,ed)\n",
    "bees = mu.getStockData('TATACHEM',sd,ed)\n",
    "iciciprunifty = mu.getMFNAV(sd,['INF846K01DI3'])\n",
    "nifty['nifty_return'] = nifty.close.pct_change()\n",
    "bees['bees_return'] = bees.close.pct_change()\n",
    "iciciprunifty['mf_return'] = pd.to_numeric(iciciprunifty['Net Asset Value'])\n",
    "iciciprunifty['mf_return'] = iciciprunifty['mf_return']/iciciprunifty['mf_return'].shift(1) -1\n",
    "df = pd.concat([nifty['nifty_return'],bees['bees_return'],iciciprunifty['mf_return']],axis=1)\n",
    "%matplotlib inline\n",
    "df.plot()"
   ]
  }
 ],
 "metadata": {
  "kernelspec": {
   "display_name": "Python 3",
   "language": "python",
   "name": "python3"
  },
  "language_info": {
   "codemirror_mode": {
    "name": "ipython",
    "version": 3
   },
   "file_extension": ".py",
   "mimetype": "text/x-python",
   "name": "python",
   "nbconvert_exporter": "python",
   "pygments_lexer": "ipython3",
   "version": "3.6.0"
  }
 },
 "nbformat": 4,
 "nbformat_minor": 2
}
