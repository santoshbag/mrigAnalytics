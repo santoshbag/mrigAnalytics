{
 "cells": [
  {
   "cell_type": "code",
   "execution_count": 1,
   "metadata": {},
   "outputs": [
    {
     "name": "stderr",
     "output_type": "stream",
     "text": [
      "C:\\anaconda\\lib\\site-packages\\mpl_finance.py:16: DeprecationWarning: \n",
      "\n",
      "  =================================================================\n",
      "\n",
      "   WARNING: `mpl_finance` is deprecated:\n",
      "\n",
      "    Please use `mplfinance` instead (no hyphen, no underscore).\n",
      "\n",
      "    To install: `pip install --upgrade mplfinance` \n",
      "\n",
      "   For more information, see: https://pypi.org/project/mplfinance/\n",
      "\n",
      "  =================================================================\n",
      "\n",
      "  __warnings.warn('\\n\\n  ================================================================='+\n"
     ]
    },
    {
     "name": "stdout",
     "output_type": "stream",
     "text": [
      "connection active\n"
     ]
    }
   ],
   "source": [
    "import mrigutilities as mu\n",
    "import pandas as pd\n",
    "import datetime\n",
    "import kite.kite_trade as zkite\n",
    "expiry1 = mu.last_thursday_of_month(datetime.date.today())\n",
    "expiry2 = mu.last_thursday_of_month(expiry1 + datetime.timedelta(days=30))\n",
    "expiry3 = mu.last_thursday_of_month(expiry2 + datetime.timedelta(days=30))\n",
    "expiry1,expiry2, expiry3\n",
    "session = mu.getKiteSession()\n"
   ]
  },
  {
   "cell_type": "code",
   "execution_count": 21,
   "metadata": {},
   "outputs": [
    {
     "data": {
      "text/html": [
       "<div>\n",
       "<style scoped>\n",
       "    .dataframe tbody tr th:only-of-type {\n",
       "        vertical-align: middle;\n",
       "    }\n",
       "\n",
       "    .dataframe tbody tr th {\n",
       "        vertical-align: top;\n",
       "    }\n",
       "\n",
       "    .dataframe thead th {\n",
       "        text-align: right;\n",
       "    }\n",
       "</style>\n",
       "<table border=\"1\" class=\"dataframe\">\n",
       "  <thead>\n",
       "    <tr style=\"text-align: right;\">\n",
       "      <th></th>\n",
       "      <th>instrument_token</th>\n",
       "      <th>exchange_token</th>\n",
       "      <th>tradingsymbol</th>\n",
       "      <th>name</th>\n",
       "      <th>last_price</th>\n",
       "      <th>expiry</th>\n",
       "      <th>strike</th>\n",
       "      <th>tick_size</th>\n",
       "      <th>lot_size</th>\n",
       "      <th>instrument_type</th>\n",
       "      <th>segment</th>\n",
       "      <th>exchange</th>\n",
       "    </tr>\n",
       "  </thead>\n",
       "  <tbody>\n",
       "    <tr>\n",
       "      <th>18</th>\n",
       "      <td>66048775</td>\n",
       "      <td>258003</td>\n",
       "      <td>CRUDEOIL23DECFUT</td>\n",
       "      <td>CRUDEOIL</td>\n",
       "      <td>0.0</td>\n",
       "      <td>2023-12-18</td>\n",
       "      <td>0.0</td>\n",
       "      <td>1.0</td>\n",
       "      <td>1</td>\n",
       "      <td>FUT</td>\n",
       "      <td>MCX-FUT</td>\n",
       "      <td>MCX</td>\n",
       "    </tr>\n",
       "    <tr>\n",
       "      <th>19</th>\n",
       "      <td>65859591</td>\n",
       "      <td>257264</td>\n",
       "      <td>CRUDEOIL23NOVFUT</td>\n",
       "      <td>CRUDEOIL</td>\n",
       "      <td>0.0</td>\n",
       "      <td>2023-11-17</td>\n",
       "      <td>0.0</td>\n",
       "      <td>1.0</td>\n",
       "      <td>1</td>\n",
       "      <td>FUT</td>\n",
       "      <td>MCX-FUT</td>\n",
       "      <td>MCX</td>\n",
       "    </tr>\n",
       "    <tr>\n",
       "      <th>20</th>\n",
       "      <td>66714119</td>\n",
       "      <td>260602</td>\n",
       "      <td>CRUDEOIL24FEBFUT</td>\n",
       "      <td>CRUDEOIL</td>\n",
       "      <td>0.0</td>\n",
       "      <td>2024-02-16</td>\n",
       "      <td>0.0</td>\n",
       "      <td>1.0</td>\n",
       "      <td>1</td>\n",
       "      <td>FUT</td>\n",
       "      <td>MCX-FUT</td>\n",
       "      <td>MCX</td>\n",
       "    </tr>\n",
       "    <tr>\n",
       "      <th>21</th>\n",
       "      <td>66714631</td>\n",
       "      <td>260604</td>\n",
       "      <td>CRUDEOIL24JANFUT</td>\n",
       "      <td>CRUDEOIL</td>\n",
       "      <td>0.0</td>\n",
       "      <td>2024-01-19</td>\n",
       "      <td>0.0</td>\n",
       "      <td>1.0</td>\n",
       "      <td>1</td>\n",
       "      <td>FUT</td>\n",
       "      <td>MCX-FUT</td>\n",
       "      <td>MCX</td>\n",
       "    </tr>\n",
       "    <tr>\n",
       "      <th>286</th>\n",
       "      <td>66710791</td>\n",
       "      <td>260589</td>\n",
       "      <td>CRUDEOIL23DEC5400CE</td>\n",
       "      <td>CRUDEOIL</td>\n",
       "      <td>0.0</td>\n",
       "      <td>2023-12-14</td>\n",
       "      <td>5400.0</td>\n",
       "      <td>0.1</td>\n",
       "      <td>1</td>\n",
       "      <td>CE</td>\n",
       "      <td>MCX-OPT</td>\n",
       "      <td>MCX</td>\n",
       "    </tr>\n",
       "    <tr>\n",
       "      <th>...</th>\n",
       "      <td>...</td>\n",
       "      <td>...</td>\n",
       "      <td>...</td>\n",
       "      <td>...</td>\n",
       "      <td>...</td>\n",
       "      <td>...</td>\n",
       "      <td>...</td>\n",
       "      <td>...</td>\n",
       "      <td>...</td>\n",
       "      <td>...</td>\n",
       "      <td>...</td>\n",
       "      <td>...</td>\n",
       "    </tr>\n",
       "    <tr>\n",
       "      <th>667</th>\n",
       "      <td>108897031</td>\n",
       "      <td>425379</td>\n",
       "      <td>CRUDEOIL24JAN8250PE</td>\n",
       "      <td>CRUDEOIL</td>\n",
       "      <td>0.0</td>\n",
       "      <td>2024-01-17</td>\n",
       "      <td>8250.0</td>\n",
       "      <td>0.1</td>\n",
       "      <td>1</td>\n",
       "      <td>PE</td>\n",
       "      <td>MCX-OPT</td>\n",
       "      <td>MCX</td>\n",
       "    </tr>\n",
       "    <tr>\n",
       "      <th>668</th>\n",
       "      <td>108884487</td>\n",
       "      <td>425330</td>\n",
       "      <td>CRUDEOIL24JAN8300CE</td>\n",
       "      <td>CRUDEOIL</td>\n",
       "      <td>0.0</td>\n",
       "      <td>2024-01-17</td>\n",
       "      <td>8300.0</td>\n",
       "      <td>0.1</td>\n",
       "      <td>1</td>\n",
       "      <td>CE</td>\n",
       "      <td>MCX-OPT</td>\n",
       "      <td>MCX</td>\n",
       "    </tr>\n",
       "    <tr>\n",
       "      <th>669</th>\n",
       "      <td>108897287</td>\n",
       "      <td>425380</td>\n",
       "      <td>CRUDEOIL24JAN8300PE</td>\n",
       "      <td>CRUDEOIL</td>\n",
       "      <td>0.0</td>\n",
       "      <td>2024-01-17</td>\n",
       "      <td>8300.0</td>\n",
       "      <td>0.1</td>\n",
       "      <td>1</td>\n",
       "      <td>PE</td>\n",
       "      <td>MCX-OPT</td>\n",
       "      <td>MCX</td>\n",
       "    </tr>\n",
       "    <tr>\n",
       "      <th>670</th>\n",
       "      <td>108884743</td>\n",
       "      <td>425331</td>\n",
       "      <td>CRUDEOIL24JAN8350CE</td>\n",
       "      <td>CRUDEOIL</td>\n",
       "      <td>0.0</td>\n",
       "      <td>2024-01-17</td>\n",
       "      <td>8350.0</td>\n",
       "      <td>0.1</td>\n",
       "      <td>1</td>\n",
       "      <td>CE</td>\n",
       "      <td>MCX-OPT</td>\n",
       "      <td>MCX</td>\n",
       "    </tr>\n",
       "    <tr>\n",
       "      <th>671</th>\n",
       "      <td>108897543</td>\n",
       "      <td>425381</td>\n",
       "      <td>CRUDEOIL24JAN8350PE</td>\n",
       "      <td>CRUDEOIL</td>\n",
       "      <td>0.0</td>\n",
       "      <td>2024-01-17</td>\n",
       "      <td>8350.0</td>\n",
       "      <td>0.1</td>\n",
       "      <td>1</td>\n",
       "      <td>PE</td>\n",
       "      <td>MCX-OPT</td>\n",
       "      <td>MCX</td>\n",
       "    </tr>\n",
       "  </tbody>\n",
       "</table>\n",
       "<p>390 rows × 12 columns</p>\n",
       "</div>"
      ],
      "text/plain": [
       "     instrument_token exchange_token        tradingsymbol      name  \\\n",
       "18           66048775         258003     CRUDEOIL23DECFUT  CRUDEOIL   \n",
       "19           65859591         257264     CRUDEOIL23NOVFUT  CRUDEOIL   \n",
       "20           66714119         260602     CRUDEOIL24FEBFUT  CRUDEOIL   \n",
       "21           66714631         260604     CRUDEOIL24JANFUT  CRUDEOIL   \n",
       "286          66710791         260589  CRUDEOIL23DEC5400CE  CRUDEOIL   \n",
       "..                ...            ...                  ...       ...   \n",
       "667         108897031         425379  CRUDEOIL24JAN8250PE  CRUDEOIL   \n",
       "668         108884487         425330  CRUDEOIL24JAN8300CE  CRUDEOIL   \n",
       "669         108897287         425380  CRUDEOIL24JAN8300PE  CRUDEOIL   \n",
       "670         108884743         425331  CRUDEOIL24JAN8350CE  CRUDEOIL   \n",
       "671         108897543         425381  CRUDEOIL24JAN8350PE  CRUDEOIL   \n",
       "\n",
       "     last_price      expiry  strike  tick_size  lot_size instrument_type  \\\n",
       "18          0.0  2023-12-18     0.0        1.0         1             FUT   \n",
       "19          0.0  2023-11-17     0.0        1.0         1             FUT   \n",
       "20          0.0  2024-02-16     0.0        1.0         1             FUT   \n",
       "21          0.0  2024-01-19     0.0        1.0         1             FUT   \n",
       "286         0.0  2023-12-14  5400.0        0.1         1              CE   \n",
       "..          ...         ...     ...        ...       ...             ...   \n",
       "667         0.0  2024-01-17  8250.0        0.1         1              PE   \n",
       "668         0.0  2024-01-17  8300.0        0.1         1              CE   \n",
       "669         0.0  2024-01-17  8300.0        0.1         1              PE   \n",
       "670         0.0  2024-01-17  8350.0        0.1         1              CE   \n",
       "671         0.0  2024-01-17  8350.0        0.1         1              PE   \n",
       "\n",
       "     segment exchange  \n",
       "18   MCX-FUT      MCX  \n",
       "19   MCX-FUT      MCX  \n",
       "20   MCX-FUT      MCX  \n",
       "21   MCX-FUT      MCX  \n",
       "286  MCX-OPT      MCX  \n",
       "..       ...      ...  \n",
       "667  MCX-OPT      MCX  \n",
       "668  MCX-OPT      MCX  \n",
       "669  MCX-OPT      MCX  \n",
       "670  MCX-OPT      MCX  \n",
       "671  MCX-OPT      MCX  \n",
       "\n",
       "[390 rows x 12 columns]"
      ]
     },
     "execution_count": 21,
     "metadata": {},
     "output_type": "execute_result"
    }
   ],
   "source": [
    "to_date = datetime.date.today()\n",
    "from_date = to_date - datetime.timedelta(days=70)\n",
    "ins = session.instruments(exchange='MCX')\n",
    "ins= pd.DataFrame(ins)\n",
    "ins[(ins['name'] == 'CRUDEOIL')]\n",
    "# crude_token = list(ins[(ins['name'] == 'CRUDEOIL') & (ins['instrument_type'] == 'FUT')].sort_values(by='expiry').head(2)['instrument_token'])\n",
    "# crude_token\n",
    "# data=None\n",
    "# try:\n",
    "#     data = session.historical_data(crude_token[0] ,from_date, to_date, 'day')\n",
    "# except:\n",
    "#     pass\n",
    "\n",
    "# if(data is None):\n",
    "#     data = session.historical_data(crude_token[1] ,from_date, to_date, 'day')\n",
    "# data"
   ]
  },
  {
   "cell_type": "code",
   "execution_count": 44,
   "metadata": {},
   "outputs": [
    {
     "data": {
      "text/plain": [
       "'325891'"
      ]
     },
     "execution_count": 44,
     "metadata": {},
     "output_type": "execute_result"
    }
   ],
   "source": [
    "to_date = datetime.date.today()\n",
    "from_date = to_date - datetime.timedelta(days=70)\n",
    "ins[(ins['name'] == 'USDINR') & (ins['instrument_type'] == 'FUT')].sort_values(by='expiry').head(2)\n",
    "token = ins[(ins['name'] == 'USDINR') & (ins['instrument_type'] == 'FUT')].sort_values(by='expiry').head(1)['instrument_token'].values[0]\n",
    "str(token)\n",
    "# dt = session.historical_data(str(token),from_date,to_date,'day')\n",
    "# dt"
   ]
  },
  {
   "cell_type": "code",
   "execution_count": 55,
   "metadata": {},
   "outputs": [
    {
     "name": "stdout",
     "output_type": "stream",
     "text": [
      "ASSETS\n",
      "\n",
      "Non-Current Assets\n",
      "(a) Property, Plant and Equipment 5a 295 20,778.35 20,874.79\n",
      "(b)_ Right of Use Assets sb 299 2,921.24 2,833.74\n",
      "(©) Capital Work-in-Progress 6 302 {1,272.56 965.15\n",
      "(d)_ Intangible Assets 5c 301 22.46 37.43\n",
      "(@) Financial Assets\n",
      "@_ Investments 7 304 12,064.55 10,711.38\n",
      "(i)_ Loans 9 310 2.68 453.17\n",
      "Finance Lease Receivables 10 312 475.29 520.91\n",
      "(iv) Other Financial Assets u 313 77.88 97.30\n",
      "(f)_ Deferred Tax Assets (Net) 26 330 Nil 250.00\n",
      "(g) Non-Current Tax Assets (Net) 12 314 610.60 338.00\n",
      "(h) Other Non-Current Assets 1B 314 1,847.64 1,649.45\n",
      "Total Non-Current Assets 40,073.25 38,731.32\n",
      "Current Assets\n",
      "(a)_ Inventories 14 315 2,457.95 2,292.33\n",
      "(b) Financial Assets\n",
      "@_ Investments 15 315 64.17 67.60\n",
      "ii) Trade Receivables 8 308 1,904.34 1,026.65\n",
      "(ii) Unbilled Revenue 66.56 58.86\n",
      "(iv) Cash and Cash Equivalents 16 316 27447 57.36\n",
      "(v)_Bank Balances other than (iv) above 7 317 21.45 21.19\n",
      "(vi) Loans 9 310 Nil 1,328.48\n",
      "(vii) Finance Lease Receivables 10 312 50.00 4261\n",
      "(viii)Other Financial Assets u 313 504.70 1,987.03\n",
      "(Q)_ Other Current Assets 13 314 246.25 213.49\n",
      "Total Current Assets 5,589.89 7,095.60\n",
      "Assets Classified as Held For Sale 18a 317 596.35 600.56\n",
      "Total Assets before Regulatory Deferral Account 46,259.49 46,427.48\n",
      "Regulatory Deferral Account - Assets 19 318 1,913.22 725.92\n",
      "TOTAL ASSETS 48,172.71 47,153.40\n",
      "EQUITY AND LIABILITIES\n",
      "Equity\n",
      "(a)_ Equity Share Capital 20a 319 319.56 319.56\n",
      "(b) Other Equity 21 321 13,380.03 10,560.24\n",
      "\n",
      "Total Equity 13,699.59 10,879.80\n",
      "\n",
      "\n",
      "Notes = Page Asat Asat\n",
      "March 31, 2023 ‘March 31, 2022\n",
      "\n",
      "Zcrore Zcrore\n",
      "\n",
      "(a) Financial Liabilities\n",
      "\n",
      "(Borrowings 2 323 11,272.30 18,087.97\n",
      "(ia) Lease Liabilities 23 326 2,735.93 2,555.11\n",
      "(ii)_ Other Financial Liabilities 25 329 133.65 13.07\n",
      "(b) Deferred Tax Liabilities (Net) 26 330 617.29 Nil\n",
      "(Q)_ Provisions 27 330 285.94 274.00\n",
      "(d) Other Non-Current Liabilities 28 338 859.25 757.15\n",
      "Total Non-Current Liabi 15,904.36 21,687.30\n",
      "Current Liabi\n",
      "(a)_ Financial Lial\n",
      "(Borrowings 29 338 10,593.18 6,620.41\n",
      "(ia) Lease Liabilities 23 326 318.45 303.76\n",
      "(ii) Trade Payables\n",
      "(a) Total outstanding dues of micro enterprises and small enterprises 24 328 87.61 39.16\n",
      "(b) Total outstanding dues of trade payables other than micro\n",
      "enterprises and small enterprises 24 328 1,897.41 4,040.73\n",
      "(ii) Other Financial Liabilities 25 329 4,681.89 2,761.44\n",
      "(b)_Current Tax Liabilities (Net) 30 339 197.79 107.67\n",
      "(Q)_ Provisions 27 330 17.76 44.59\n",
      "(d) Other Current Liabilities 28 338 661.11 554.98\n",
      "Total Current Liabilities 18,455.20 14,472.74\n",
      "Liabilities directly associated with Assets Classified as Held For Sale 18b 318 113.56 113.56\n",
      "Total Liabilities 34,473.12 36,273.60\n",
      "\n",
      "TOTAL EQUITY AND LIABILITIES 48,172.71 47,153.40\n",
      "\n",
      "\n"
     ]
    }
   ],
   "source": [
    "from PIL import Image\n",
    "import pytesseract\n",
    "pytesseract.pytesseract.tesseract_cmd = r'C:\\Program Files\\Tesseract-OCR\\tesseract'\n",
    "assets = pytesseract.image_to_string(Image.open('tapo.png'))\n",
    "liabilities = pytesseract.image_to_string(Image.open('tapo1.png'))\n",
    "print(assets)\n",
    "print(liabilities)"
   ]
  },
  {
   "cell_type": "code",
   "execution_count": 53,
   "metadata": {},
   "outputs": [
    {
     "data": {
      "text/plain": [
       "'(a) Property, Plant and Equipment 5a 295 20,778.35 20,874.79'"
      ]
     },
     "execution_count": 53,
     "metadata": {},
     "output_type": "execute_result"
    }
   ],
   "source": [
    "assets.split('\\n')[3]"
   ]
  },
  {
   "cell_type": "code",
   "execution_count": 18,
   "metadata": {},
   "outputs": [
    {
     "data": {
      "text/html": [
       "<div>\n",
       "<style scoped>\n",
       "    .dataframe tbody tr th:only-of-type {\n",
       "        vertical-align: middle;\n",
       "    }\n",
       "\n",
       "    .dataframe tbody tr th {\n",
       "        vertical-align: top;\n",
       "    }\n",
       "\n",
       "    .dataframe thead th {\n",
       "        text-align: right;\n",
       "    }\n",
       "</style>\n",
       "<table border=\"1\" class=\"dataframe\">\n",
       "  <thead>\n",
       "    <tr style=\"text-align: right;\">\n",
       "      <th></th>\n",
       "      <th>tradingsymbol</th>\n",
       "      <th>name</th>\n",
       "      <th>strike</th>\n",
       "      <th>oi</th>\n",
       "      <th>volume</th>\n",
       "      <th>last_price</th>\n",
       "      <th>expiry</th>\n",
       "      <th>itm x oi</th>\n",
       "    </tr>\n",
       "  </thead>\n",
       "  <tbody>\n",
       "    <tr>\n",
       "      <th>0</th>\n",
       "      <td>NFO:NIFTY23SEP18300PE</td>\n",
       "      <td>NIFTY</td>\n",
       "      <td>18300.0</td>\n",
       "      <td>659350</td>\n",
       "      <td>0</td>\n",
       "      <td>4.55</td>\n",
       "      <td>2023-09-28</td>\n",
       "      <td>0.0</td>\n",
       "    </tr>\n",
       "    <tr>\n",
       "      <th>1</th>\n",
       "      <td>NFO:NIFTY23SEP18350CE</td>\n",
       "      <td>NIFTY</td>\n",
       "      <td>18350.0</td>\n",
       "      <td>700</td>\n",
       "      <td>0</td>\n",
       "      <td>1925.15</td>\n",
       "      <td>2023-09-28</td>\n",
       "      <td>1289645.0</td>\n",
       "    </tr>\n",
       "    <tr>\n",
       "      <th>2</th>\n",
       "      <td>NFO:NIFTY23SEP18350PE</td>\n",
       "      <td>NIFTY</td>\n",
       "      <td>18350.0</td>\n",
       "      <td>14300</td>\n",
       "      <td>0</td>\n",
       "      <td>4.4</td>\n",
       "      <td>2023-09-28</td>\n",
       "      <td>0.0</td>\n",
       "    </tr>\n",
       "    <tr>\n",
       "      <th>3</th>\n",
       "      <td>NFO:NIFTY23SEP18400CE</td>\n",
       "      <td>NIFTY</td>\n",
       "      <td>18400.0</td>\n",
       "      <td>39300</td>\n",
       "      <td>0</td>\n",
       "      <td>1841.35</td>\n",
       "      <td>2023-09-28</td>\n",
       "      <td>70439355.0</td>\n",
       "    </tr>\n",
       "    <tr>\n",
       "      <th>4</th>\n",
       "      <td>NFO:NIFTY23SEP18400PE</td>\n",
       "      <td>NIFTY</td>\n",
       "      <td>18400.0</td>\n",
       "      <td>340300</td>\n",
       "      <td>0</td>\n",
       "      <td>4.4</td>\n",
       "      <td>2023-09-28</td>\n",
       "      <td>0.0</td>\n",
       "    </tr>\n",
       "    <tr>\n",
       "      <th>...</th>\n",
       "      <td>...</td>\n",
       "      <td>...</td>\n",
       "      <td>...</td>\n",
       "      <td>...</td>\n",
       "      <td>...</td>\n",
       "      <td>...</td>\n",
       "      <td>...</td>\n",
       "      <td>...</td>\n",
       "    </tr>\n",
       "    <tr>\n",
       "      <th>90</th>\n",
       "      <td>NFO:NIFTY23SEP20550PE</td>\n",
       "      <td>NIFTY</td>\n",
       "      <td>20550.0</td>\n",
       "      <td>2850</td>\n",
       "      <td>0</td>\n",
       "      <td>333.25</td>\n",
       "      <td>2023-09-28</td>\n",
       "      <td>1019302.5</td>\n",
       "    </tr>\n",
       "    <tr>\n",
       "      <th>91</th>\n",
       "      <td>NFO:NIFTY23SEP20600CE</td>\n",
       "      <td>NIFTY</td>\n",
       "      <td>20600.0</td>\n",
       "      <td>1255400</td>\n",
       "      <td>0</td>\n",
       "      <td>21.55</td>\n",
       "      <td>2023-09-28</td>\n",
       "      <td>0.0</td>\n",
       "    </tr>\n",
       "    <tr>\n",
       "      <th>92</th>\n",
       "      <td>NFO:NIFTY23SEP20600PE</td>\n",
       "      <td>NIFTY</td>\n",
       "      <td>20600.0</td>\n",
       "      <td>35850</td>\n",
       "      <td>0</td>\n",
       "      <td>375</td>\n",
       "      <td>2023-09-28</td>\n",
       "      <td>14614252.5</td>\n",
       "    </tr>\n",
       "    <tr>\n",
       "      <th>93</th>\n",
       "      <td>NFO:NIFTY23SEP20650CE</td>\n",
       "      <td>NIFTY</td>\n",
       "      <td>20650.0</td>\n",
       "      <td>140400</td>\n",
       "      <td>0</td>\n",
       "      <td>17.8</td>\n",
       "      <td>2023-09-28</td>\n",
       "      <td>0.0</td>\n",
       "    </tr>\n",
       "    <tr>\n",
       "      <th>94</th>\n",
       "      <td>NFO:NIFTY23SEP20650PE</td>\n",
       "      <td>NIFTY</td>\n",
       "      <td>20650.0</td>\n",
       "      <td>1900</td>\n",
       "      <td>0</td>\n",
       "      <td>423.3</td>\n",
       "      <td>2023-09-28</td>\n",
       "      <td>869535.0</td>\n",
       "    </tr>\n",
       "  </tbody>\n",
       "</table>\n",
       "<p>95 rows × 8 columns</p>\n",
       "</div>"
      ],
      "text/plain": [
       "            tradingsymbol   name   strike       oi volume last_price  \\\n",
       "0   NFO:NIFTY23SEP18300PE  NIFTY  18300.0   659350      0       4.55   \n",
       "1   NFO:NIFTY23SEP18350CE  NIFTY  18350.0      700      0    1925.15   \n",
       "2   NFO:NIFTY23SEP18350PE  NIFTY  18350.0    14300      0        4.4   \n",
       "3   NFO:NIFTY23SEP18400CE  NIFTY  18400.0    39300      0    1841.35   \n",
       "4   NFO:NIFTY23SEP18400PE  NIFTY  18400.0   340300      0        4.4   \n",
       "..                    ...    ...      ...      ...    ...        ...   \n",
       "90  NFO:NIFTY23SEP20550PE  NIFTY  20550.0     2850      0     333.25   \n",
       "91  NFO:NIFTY23SEP20600CE  NIFTY  20600.0  1255400      0      21.55   \n",
       "92  NFO:NIFTY23SEP20600PE  NIFTY  20600.0    35850      0        375   \n",
       "93  NFO:NIFTY23SEP20650CE  NIFTY  20650.0   140400      0       17.8   \n",
       "94  NFO:NIFTY23SEP20650PE  NIFTY  20650.0     1900      0      423.3   \n",
       "\n",
       "        expiry    itm x oi  \n",
       "0   2023-09-28         0.0  \n",
       "1   2023-09-28   1289645.0  \n",
       "2   2023-09-28         0.0  \n",
       "3   2023-09-28  70439355.0  \n",
       "4   2023-09-28         0.0  \n",
       "..         ...         ...  \n",
       "90  2023-09-28   1019302.5  \n",
       "91  2023-09-28         0.0  \n",
       "92  2023-09-28  14614252.5  \n",
       "93  2023-09-28         0.0  \n",
       "94  2023-09-28    869535.0  \n",
       "\n",
       "[95 rows x 8 columns]"
      ]
     },
     "execution_count": 18,
     "metadata": {},
     "output_type": "execute_result"
    }
   ],
   "source": [
    "last_price = pd.DataFrame(session.quote('NSE:NIFTY 50'))['NSE:NIFTY 50']['last_price']\n",
    "last_price\n",
    "oc['itm x oi'] = oc[['strike', 'tradingsymbol','oi']].apply(lambda x: max(last_price - x['strike'],0)*x['oi'] if (x['tradingsymbol'][-2:] == 'CE') else max(x['strike']-last_price ,0)*x['oi'], axis=1)\n",
    "\n",
    "# oc = oc.groupby(by=['strike'])\n",
    "oc"
   ]
  },
  {
   "cell_type": "code",
   "execution_count": 19,
   "metadata": {},
   "outputs": [
    {
     "data": {
      "text/html": [
       "<div>\n",
       "<style scoped>\n",
       "    .dataframe tbody tr th:only-of-type {\n",
       "        vertical-align: middle;\n",
       "    }\n",
       "\n",
       "    .dataframe tbody tr th {\n",
       "        vertical-align: top;\n",
       "    }\n",
       "\n",
       "    .dataframe thead th {\n",
       "        text-align: right;\n",
       "    }\n",
       "</style>\n",
       "<table border=\"1\" class=\"dataframe\">\n",
       "  <thead>\n",
       "    <tr style=\"text-align: right;\">\n",
       "      <th></th>\n",
       "      <th>strike</th>\n",
       "      <th>itm x oi</th>\n",
       "    </tr>\n",
       "  </thead>\n",
       "  <tbody>\n",
       "    <tr>\n",
       "      <th>0</th>\n",
       "      <td>18300.0</td>\n",
       "      <td>0.000000e+00</td>\n",
       "    </tr>\n",
       "    <tr>\n",
       "      <th>1</th>\n",
       "      <td>18350.0</td>\n",
       "      <td>1.289645e+06</td>\n",
       "    </tr>\n",
       "    <tr>\n",
       "      <th>2</th>\n",
       "      <td>18400.0</td>\n",
       "      <td>7.043936e+07</td>\n",
       "    </tr>\n",
       "    <tr>\n",
       "      <th>3</th>\n",
       "      <td>18450.0</td>\n",
       "      <td>1.742350e+05</td>\n",
       "    </tr>\n",
       "    <tr>\n",
       "      <th>4</th>\n",
       "      <td>18500.0</td>\n",
       "      <td>5.000894e+08</td>\n",
       "    </tr>\n",
       "    <tr>\n",
       "      <th>5</th>\n",
       "      <td>18550.0</td>\n",
       "      <td>1.888702e+06</td>\n",
       "    </tr>\n",
       "    <tr>\n",
       "      <th>6</th>\n",
       "      <td>18600.0</td>\n",
       "      <td>3.009542e+07</td>\n",
       "    </tr>\n",
       "    <tr>\n",
       "      <th>7</th>\n",
       "      <td>18650.0</td>\n",
       "      <td>2.699112e+06</td>\n",
       "    </tr>\n",
       "    <tr>\n",
       "      <th>8</th>\n",
       "      <td>18700.0</td>\n",
       "      <td>5.484386e+07</td>\n",
       "    </tr>\n",
       "    <tr>\n",
       "      <th>9</th>\n",
       "      <td>18750.0</td>\n",
       "      <td>9.158922e+06</td>\n",
       "    </tr>\n",
       "    <tr>\n",
       "      <th>10</th>\n",
       "      <td>18800.0</td>\n",
       "      <td>9.231280e+07</td>\n",
       "    </tr>\n",
       "    <tr>\n",
       "      <th>11</th>\n",
       "      <td>18850.0</td>\n",
       "      <td>4.631107e+06</td>\n",
       "    </tr>\n",
       "    <tr>\n",
       "      <th>12</th>\n",
       "      <td>18900.0</td>\n",
       "      <td>1.281365e+08</td>\n",
       "    </tr>\n",
       "    <tr>\n",
       "      <th>13</th>\n",
       "      <td>18950.0</td>\n",
       "      <td>6.832925e+06</td>\n",
       "    </tr>\n",
       "    <tr>\n",
       "      <th>14</th>\n",
       "      <td>19000.0</td>\n",
       "      <td>1.461583e+09</td>\n",
       "    </tr>\n",
       "    <tr>\n",
       "      <th>15</th>\n",
       "      <td>19050.0</td>\n",
       "      <td>1.290856e+07</td>\n",
       "    </tr>\n",
       "    <tr>\n",
       "      <th>16</th>\n",
       "      <td>19100.0</td>\n",
       "      <td>1.161714e+08</td>\n",
       "    </tr>\n",
       "    <tr>\n",
       "      <th>17</th>\n",
       "      <td>19150.0</td>\n",
       "      <td>2.241052e+07</td>\n",
       "    </tr>\n",
       "    <tr>\n",
       "      <th>18</th>\n",
       "      <td>19200.0</td>\n",
       "      <td>1.864626e+08</td>\n",
       "    </tr>\n",
       "    <tr>\n",
       "      <th>19</th>\n",
       "      <td>19250.0</td>\n",
       "      <td>9.381094e+07</td>\n",
       "    </tr>\n",
       "    <tr>\n",
       "      <th>20</th>\n",
       "      <td>19300.0</td>\n",
       "      <td>7.429260e+08</td>\n",
       "    </tr>\n",
       "    <tr>\n",
       "      <th>21</th>\n",
       "      <td>19350.0</td>\n",
       "      <td>4.186480e+07</td>\n",
       "    </tr>\n",
       "    <tr>\n",
       "      <th>22</th>\n",
       "      <td>19400.0</td>\n",
       "      <td>5.609046e+08</td>\n",
       "    </tr>\n",
       "    <tr>\n",
       "      <th>23</th>\n",
       "      <td>19450.0</td>\n",
       "      <td>4.361306e+07</td>\n",
       "    </tr>\n",
       "    <tr>\n",
       "      <th>24</th>\n",
       "      <td>19500.0</td>\n",
       "      <td>9.469271e+08</td>\n",
       "    </tr>\n",
       "    <tr>\n",
       "      <th>25</th>\n",
       "      <td>19550.0</td>\n",
       "      <td>5.109894e+07</td>\n",
       "    </tr>\n",
       "    <tr>\n",
       "      <th>26</th>\n",
       "      <td>19600.0</td>\n",
       "      <td>4.483201e+08</td>\n",
       "    </tr>\n",
       "    <tr>\n",
       "      <th>27</th>\n",
       "      <td>19650.0</td>\n",
       "      <td>5.122496e+07</td>\n",
       "    </tr>\n",
       "    <tr>\n",
       "      <th>28</th>\n",
       "      <td>19700.0</td>\n",
       "      <td>3.636989e+08</td>\n",
       "    </tr>\n",
       "    <tr>\n",
       "      <th>29</th>\n",
       "      <td>19750.0</td>\n",
       "      <td>6.630826e+07</td>\n",
       "    </tr>\n",
       "    <tr>\n",
       "      <th>30</th>\n",
       "      <td>19800.0</td>\n",
       "      <td>5.831694e+08</td>\n",
       "    </tr>\n",
       "    <tr>\n",
       "      <th>31</th>\n",
       "      <td>19850.0</td>\n",
       "      <td>4.356404e+07</td>\n",
       "    </tr>\n",
       "    <tr>\n",
       "      <th>32</th>\n",
       "      <td>19900.0</td>\n",
       "      <td>3.443152e+08</td>\n",
       "    </tr>\n",
       "    <tr>\n",
       "      <th>33</th>\n",
       "      <td>19950.0</td>\n",
       "      <td>3.508016e+07</td>\n",
       "    </tr>\n",
       "    <tr>\n",
       "      <th>34</th>\n",
       "      <td>20000.0</td>\n",
       "      <td>5.397052e+08</td>\n",
       "    </tr>\n",
       "    <tr>\n",
       "      <th>35</th>\n",
       "      <td>20050.0</td>\n",
       "      <td>3.704659e+07</td>\n",
       "    </tr>\n",
       "    <tr>\n",
       "      <th>36</th>\n",
       "      <td>20100.0</td>\n",
       "      <td>1.458068e+08</td>\n",
       "    </tr>\n",
       "    <tr>\n",
       "      <th>37</th>\n",
       "      <td>20150.0</td>\n",
       "      <td>1.593630e+07</td>\n",
       "    </tr>\n",
       "    <tr>\n",
       "      <th>38</th>\n",
       "      <td>20200.0</td>\n",
       "      <td>1.494466e+07</td>\n",
       "    </tr>\n",
       "    <tr>\n",
       "      <th>39</th>\n",
       "      <td>20250.0</td>\n",
       "      <td>1.061625e+07</td>\n",
       "    </tr>\n",
       "    <tr>\n",
       "      <th>40</th>\n",
       "      <td>20300.0</td>\n",
       "      <td>5.062241e+07</td>\n",
       "    </tr>\n",
       "    <tr>\n",
       "      <th>41</th>\n",
       "      <td>20350.0</td>\n",
       "      <td>6.960248e+06</td>\n",
       "    </tr>\n",
       "    <tr>\n",
       "      <th>42</th>\n",
       "      <td>20400.0</td>\n",
       "      <td>4.352344e+07</td>\n",
       "    </tr>\n",
       "    <tr>\n",
       "      <th>43</th>\n",
       "      <td>20450.0</td>\n",
       "      <td>2.808385e+06</td>\n",
       "    </tr>\n",
       "    <tr>\n",
       "      <th>44</th>\n",
       "      <td>20500.0</td>\n",
       "      <td>1.371042e+08</td>\n",
       "    </tr>\n",
       "    <tr>\n",
       "      <th>45</th>\n",
       "      <td>20550.0</td>\n",
       "      <td>1.019303e+06</td>\n",
       "    </tr>\n",
       "    <tr>\n",
       "      <th>46</th>\n",
       "      <td>20600.0</td>\n",
       "      <td>1.461425e+07</td>\n",
       "    </tr>\n",
       "    <tr>\n",
       "      <th>47</th>\n",
       "      <td>20650.0</td>\n",
       "      <td>8.695350e+05</td>\n",
       "    </tr>\n",
       "  </tbody>\n",
       "</table>\n",
       "</div>"
      ],
      "text/plain": [
       "     strike      itm x oi\n",
       "0   18300.0  0.000000e+00\n",
       "1   18350.0  1.289645e+06\n",
       "2   18400.0  7.043936e+07\n",
       "3   18450.0  1.742350e+05\n",
       "4   18500.0  5.000894e+08\n",
       "5   18550.0  1.888702e+06\n",
       "6   18600.0  3.009542e+07\n",
       "7   18650.0  2.699112e+06\n",
       "8   18700.0  5.484386e+07\n",
       "9   18750.0  9.158922e+06\n",
       "10  18800.0  9.231280e+07\n",
       "11  18850.0  4.631107e+06\n",
       "12  18900.0  1.281365e+08\n",
       "13  18950.0  6.832925e+06\n",
       "14  19000.0  1.461583e+09\n",
       "15  19050.0  1.290856e+07\n",
       "16  19100.0  1.161714e+08\n",
       "17  19150.0  2.241052e+07\n",
       "18  19200.0  1.864626e+08\n",
       "19  19250.0  9.381094e+07\n",
       "20  19300.0  7.429260e+08\n",
       "21  19350.0  4.186480e+07\n",
       "22  19400.0  5.609046e+08\n",
       "23  19450.0  4.361306e+07\n",
       "24  19500.0  9.469271e+08\n",
       "25  19550.0  5.109894e+07\n",
       "26  19600.0  4.483201e+08\n",
       "27  19650.0  5.122496e+07\n",
       "28  19700.0  3.636989e+08\n",
       "29  19750.0  6.630826e+07\n",
       "30  19800.0  5.831694e+08\n",
       "31  19850.0  4.356404e+07\n",
       "32  19900.0  3.443152e+08\n",
       "33  19950.0  3.508016e+07\n",
       "34  20000.0  5.397052e+08\n",
       "35  20050.0  3.704659e+07\n",
       "36  20100.0  1.458068e+08\n",
       "37  20150.0  1.593630e+07\n",
       "38  20200.0  1.494466e+07\n",
       "39  20250.0  1.061625e+07\n",
       "40  20300.0  5.062241e+07\n",
       "41  20350.0  6.960248e+06\n",
       "42  20400.0  4.352344e+07\n",
       "43  20450.0  2.808385e+06\n",
       "44  20500.0  1.371042e+08\n",
       "45  20550.0  1.019303e+06\n",
       "46  20600.0  1.461425e+07\n",
       "47  20650.0  8.695350e+05"
      ]
     },
     "execution_count": 19,
     "metadata": {},
     "output_type": "execute_result"
    }
   ],
   "source": [
    "oc = oc.groupby(by=['strike'],as_index=False)['itm x oi'].sum().fillna(0).round()\n",
    "oc"
   ]
  },
  {
   "cell_type": "code",
   "execution_count": 23,
   "metadata": {},
   "outputs": [
    {
     "data": {
      "text/plain": [
       "19000.0"
      ]
     },
     "execution_count": 23,
     "metadata": {},
     "output_type": "execute_result"
    }
   ],
   "source": [
    "oc.sort_values(['itm x oi'],ascending=False).head(1)['strike'].values[0]"
   ]
  },
  {
   "cell_type": "code",
   "execution_count": 2,
   "metadata": {},
   "outputs": [],
   "source": [
    "import plotly.graph_objects as go\n",
    "scrips = ['NIFTY 50','NIFTY BANK', 'INDIA VIX']\n",
    "kitecodemap = pd.read_csv('kitensecodes.csv')\n",
    "scrips = [kitecodemap[kitecodemap['tradingsymbol'] == scrip]['instrument_token'].values[0] for scrip in scrips]\n",
    "to_date = datetime.date.today()\n",
    "from_date = to_date - datetime.timedelta(days=30)\n",
    "hist_data = []\n",
    "for token in scrips:\n",
    "    data = session.historical_data(token,from_date,to_date,interval='day',continuous=False)\n",
    "    data = pd.DataFrame(data)\n",
    "#     data['date'] = data['date'].apply(lambda x : datetime.datetime.strptime(str(x), \"%Y-%m-%d %H:%M:%S+05:30\"))\n",
    "#     data['date'] = data['date'].apply(lambda x : datetime.datetime.fromtimestamp(x))\n",
    "\n",
    "    hist_data.append(data[data.columns[:-1]])\n",
    "# hist_data[0]\n"
   ]
  },
  {
   "cell_type": "code",
   "execution_count": 38,
   "metadata": {},
   "outputs": [
    {
     "data": {
      "application/vnd.plotly.v1+json": {
       "config": {
        "plotlyServerURL": "https://plot.ly"
       },
       "data": [
        {
         "close": [
          12,
          12.13,
          12.24,
          12.14,
          11.96,
          11.75,
          11.73,
          11.7,
          12.08,
          12.4,
          12.23,
          11.8,
          12.06,
          11.37,
          10.96,
          10.82,
          10.68,
          10.87,
          10.78,
          11.25
         ],
         "high": [
          12.76,
          12.68,
          12.67,
          12.49,
          12.59,
          12.09,
          11.89,
          12.24,
          12.24,
          12.72,
          12.46,
          12.24,
          12.28,
          12.18,
          11.54,
          11.09,
          10.98,
          11.03,
          10.97,
          11.33
         ],
         "low": [
          10.48,
          12,
          12.11,
          10.79,
          11.17,
          11.59,
          10.31,
          10.2,
          9.98,
          9.5,
          10.65,
          11.46,
          11.76,
          10.41,
          10.86,
          9.37,
          9.81,
          9.8,
          10.08,
          10.34
         ],
         "open": [
          11.52,
          12,
          12.13,
          12.24,
          12.14,
          11.96,
          11.75,
          11.73,
          11.7,
          12.08,
          12.4,
          12.23,
          11.8,
          12.06,
          11.37,
          10.96,
          10.82,
          10.68,
          10.87,
          10.78
         ],
         "type": "candlestick",
         "x": [
          "2023-08-14T00:00:00+05:30",
          "2023-08-16T00:00:00+05:30",
          "2023-08-17T00:00:00+05:30",
          "2023-08-18T00:00:00+05:30",
          "2023-08-21T00:00:00+05:30",
          "2023-08-22T00:00:00+05:30",
          "2023-08-23T00:00:00+05:30",
          "2023-08-24T00:00:00+05:30",
          "2023-08-25T00:00:00+05:30",
          "2023-08-28T00:00:00+05:30",
          "2023-08-29T00:00:00+05:30",
          "2023-08-30T00:00:00+05:30",
          "2023-08-31T00:00:00+05:30",
          "2023-09-01T00:00:00+05:30",
          "2023-09-04T00:00:00+05:30",
          "2023-09-05T00:00:00+05:30",
          "2023-09-06T00:00:00+05:30",
          "2023-09-07T00:00:00+05:30",
          "2023-09-08T00:00:00+05:30",
          "2023-09-11T00:00:00+05:30"
         ]
        }
       ],
       "layout": {
        "template": {
         "data": {
          "bar": [
           {
            "error_x": {
             "color": "#2a3f5f"
            },
            "error_y": {
             "color": "#2a3f5f"
            },
            "marker": {
             "line": {
              "color": "#E5ECF6",
              "width": 0.5
             },
             "pattern": {
              "fillmode": "overlay",
              "size": 10,
              "solidity": 0.2
             }
            },
            "type": "bar"
           }
          ],
          "barpolar": [
           {
            "marker": {
             "line": {
              "color": "#E5ECF6",
              "width": 0.5
             },
             "pattern": {
              "fillmode": "overlay",
              "size": 10,
              "solidity": 0.2
             }
            },
            "type": "barpolar"
           }
          ],
          "carpet": [
           {
            "aaxis": {
             "endlinecolor": "#2a3f5f",
             "gridcolor": "white",
             "linecolor": "white",
             "minorgridcolor": "white",
             "startlinecolor": "#2a3f5f"
            },
            "baxis": {
             "endlinecolor": "#2a3f5f",
             "gridcolor": "white",
             "linecolor": "white",
             "minorgridcolor": "white",
             "startlinecolor": "#2a3f5f"
            },
            "type": "carpet"
           }
          ],
          "choropleth": [
           {
            "colorbar": {
             "outlinewidth": 0,
             "ticks": ""
            },
            "type": "choropleth"
           }
          ],
          "contour": [
           {
            "colorbar": {
             "outlinewidth": 0,
             "ticks": ""
            },
            "colorscale": [
             [
              0,
              "#0d0887"
             ],
             [
              0.1111111111111111,
              "#46039f"
             ],
             [
              0.2222222222222222,
              "#7201a8"
             ],
             [
              0.3333333333333333,
              "#9c179e"
             ],
             [
              0.4444444444444444,
              "#bd3786"
             ],
             [
              0.5555555555555556,
              "#d8576b"
             ],
             [
              0.6666666666666666,
              "#ed7953"
             ],
             [
              0.7777777777777778,
              "#fb9f3a"
             ],
             [
              0.8888888888888888,
              "#fdca26"
             ],
             [
              1,
              "#f0f921"
             ]
            ],
            "type": "contour"
           }
          ],
          "contourcarpet": [
           {
            "colorbar": {
             "outlinewidth": 0,
             "ticks": ""
            },
            "type": "contourcarpet"
           }
          ],
          "heatmap": [
           {
            "colorbar": {
             "outlinewidth": 0,
             "ticks": ""
            },
            "colorscale": [
             [
              0,
              "#0d0887"
             ],
             [
              0.1111111111111111,
              "#46039f"
             ],
             [
              0.2222222222222222,
              "#7201a8"
             ],
             [
              0.3333333333333333,
              "#9c179e"
             ],
             [
              0.4444444444444444,
              "#bd3786"
             ],
             [
              0.5555555555555556,
              "#d8576b"
             ],
             [
              0.6666666666666666,
              "#ed7953"
             ],
             [
              0.7777777777777778,
              "#fb9f3a"
             ],
             [
              0.8888888888888888,
              "#fdca26"
             ],
             [
              1,
              "#f0f921"
             ]
            ],
            "type": "heatmap"
           }
          ],
          "heatmapgl": [
           {
            "colorbar": {
             "outlinewidth": 0,
             "ticks": ""
            },
            "colorscale": [
             [
              0,
              "#0d0887"
             ],
             [
              0.1111111111111111,
              "#46039f"
             ],
             [
              0.2222222222222222,
              "#7201a8"
             ],
             [
              0.3333333333333333,
              "#9c179e"
             ],
             [
              0.4444444444444444,
              "#bd3786"
             ],
             [
              0.5555555555555556,
              "#d8576b"
             ],
             [
              0.6666666666666666,
              "#ed7953"
             ],
             [
              0.7777777777777778,
              "#fb9f3a"
             ],
             [
              0.8888888888888888,
              "#fdca26"
             ],
             [
              1,
              "#f0f921"
             ]
            ],
            "type": "heatmapgl"
           }
          ],
          "histogram": [
           {
            "marker": {
             "pattern": {
              "fillmode": "overlay",
              "size": 10,
              "solidity": 0.2
             }
            },
            "type": "histogram"
           }
          ],
          "histogram2d": [
           {
            "colorbar": {
             "outlinewidth": 0,
             "ticks": ""
            },
            "colorscale": [
             [
              0,
              "#0d0887"
             ],
             [
              0.1111111111111111,
              "#46039f"
             ],
             [
              0.2222222222222222,
              "#7201a8"
             ],
             [
              0.3333333333333333,
              "#9c179e"
             ],
             [
              0.4444444444444444,
              "#bd3786"
             ],
             [
              0.5555555555555556,
              "#d8576b"
             ],
             [
              0.6666666666666666,
              "#ed7953"
             ],
             [
              0.7777777777777778,
              "#fb9f3a"
             ],
             [
              0.8888888888888888,
              "#fdca26"
             ],
             [
              1,
              "#f0f921"
             ]
            ],
            "type": "histogram2d"
           }
          ],
          "histogram2dcontour": [
           {
            "colorbar": {
             "outlinewidth": 0,
             "ticks": ""
            },
            "colorscale": [
             [
              0,
              "#0d0887"
             ],
             [
              0.1111111111111111,
              "#46039f"
             ],
             [
              0.2222222222222222,
              "#7201a8"
             ],
             [
              0.3333333333333333,
              "#9c179e"
             ],
             [
              0.4444444444444444,
              "#bd3786"
             ],
             [
              0.5555555555555556,
              "#d8576b"
             ],
             [
              0.6666666666666666,
              "#ed7953"
             ],
             [
              0.7777777777777778,
              "#fb9f3a"
             ],
             [
              0.8888888888888888,
              "#fdca26"
             ],
             [
              1,
              "#f0f921"
             ]
            ],
            "type": "histogram2dcontour"
           }
          ],
          "mesh3d": [
           {
            "colorbar": {
             "outlinewidth": 0,
             "ticks": ""
            },
            "type": "mesh3d"
           }
          ],
          "parcoords": [
           {
            "line": {
             "colorbar": {
              "outlinewidth": 0,
              "ticks": ""
             }
            },
            "type": "parcoords"
           }
          ],
          "pie": [
           {
            "automargin": true,
            "type": "pie"
           }
          ],
          "scatter": [
           {
            "fillpattern": {
             "fillmode": "overlay",
             "size": 10,
             "solidity": 0.2
            },
            "type": "scatter"
           }
          ],
          "scatter3d": [
           {
            "line": {
             "colorbar": {
              "outlinewidth": 0,
              "ticks": ""
             }
            },
            "marker": {
             "colorbar": {
              "outlinewidth": 0,
              "ticks": ""
             }
            },
            "type": "scatter3d"
           }
          ],
          "scattercarpet": [
           {
            "marker": {
             "colorbar": {
              "outlinewidth": 0,
              "ticks": ""
             }
            },
            "type": "scattercarpet"
           }
          ],
          "scattergeo": [
           {
            "marker": {
             "colorbar": {
              "outlinewidth": 0,
              "ticks": ""
             }
            },
            "type": "scattergeo"
           }
          ],
          "scattergl": [
           {
            "marker": {
             "colorbar": {
              "outlinewidth": 0,
              "ticks": ""
             }
            },
            "type": "scattergl"
           }
          ],
          "scattermapbox": [
           {
            "marker": {
             "colorbar": {
              "outlinewidth": 0,
              "ticks": ""
             }
            },
            "type": "scattermapbox"
           }
          ],
          "scatterpolar": [
           {
            "marker": {
             "colorbar": {
              "outlinewidth": 0,
              "ticks": ""
             }
            },
            "type": "scatterpolar"
           }
          ],
          "scatterpolargl": [
           {
            "marker": {
             "colorbar": {
              "outlinewidth": 0,
              "ticks": ""
             }
            },
            "type": "scatterpolargl"
           }
          ],
          "scatterternary": [
           {
            "marker": {
             "colorbar": {
              "outlinewidth": 0,
              "ticks": ""
             }
            },
            "type": "scatterternary"
           }
          ],
          "surface": [
           {
            "colorbar": {
             "outlinewidth": 0,
             "ticks": ""
            },
            "colorscale": [
             [
              0,
              "#0d0887"
             ],
             [
              0.1111111111111111,
              "#46039f"
             ],
             [
              0.2222222222222222,
              "#7201a8"
             ],
             [
              0.3333333333333333,
              "#9c179e"
             ],
             [
              0.4444444444444444,
              "#bd3786"
             ],
             [
              0.5555555555555556,
              "#d8576b"
             ],
             [
              0.6666666666666666,
              "#ed7953"
             ],
             [
              0.7777777777777778,
              "#fb9f3a"
             ],
             [
              0.8888888888888888,
              "#fdca26"
             ],
             [
              1,
              "#f0f921"
             ]
            ],
            "type": "surface"
           }
          ],
          "table": [
           {
            "cells": {
             "fill": {
              "color": "#EBF0F8"
             },
             "line": {
              "color": "white"
             }
            },
            "header": {
             "fill": {
              "color": "#C8D4E3"
             },
             "line": {
              "color": "white"
             }
            },
            "type": "table"
           }
          ]
         },
         "layout": {
          "annotationdefaults": {
           "arrowcolor": "#2a3f5f",
           "arrowhead": 0,
           "arrowwidth": 1
          },
          "autotypenumbers": "strict",
          "coloraxis": {
           "colorbar": {
            "outlinewidth": 0,
            "ticks": ""
           }
          },
          "colorscale": {
           "diverging": [
            [
             0,
             "#8e0152"
            ],
            [
             0.1,
             "#c51b7d"
            ],
            [
             0.2,
             "#de77ae"
            ],
            [
             0.3,
             "#f1b6da"
            ],
            [
             0.4,
             "#fde0ef"
            ],
            [
             0.5,
             "#f7f7f7"
            ],
            [
             0.6,
             "#e6f5d0"
            ],
            [
             0.7,
             "#b8e186"
            ],
            [
             0.8,
             "#7fbc41"
            ],
            [
             0.9,
             "#4d9221"
            ],
            [
             1,
             "#276419"
            ]
           ],
           "sequential": [
            [
             0,
             "#0d0887"
            ],
            [
             0.1111111111111111,
             "#46039f"
            ],
            [
             0.2222222222222222,
             "#7201a8"
            ],
            [
             0.3333333333333333,
             "#9c179e"
            ],
            [
             0.4444444444444444,
             "#bd3786"
            ],
            [
             0.5555555555555556,
             "#d8576b"
            ],
            [
             0.6666666666666666,
             "#ed7953"
            ],
            [
             0.7777777777777778,
             "#fb9f3a"
            ],
            [
             0.8888888888888888,
             "#fdca26"
            ],
            [
             1,
             "#f0f921"
            ]
           ],
           "sequentialminus": [
            [
             0,
             "#0d0887"
            ],
            [
             0.1111111111111111,
             "#46039f"
            ],
            [
             0.2222222222222222,
             "#7201a8"
            ],
            [
             0.3333333333333333,
             "#9c179e"
            ],
            [
             0.4444444444444444,
             "#bd3786"
            ],
            [
             0.5555555555555556,
             "#d8576b"
            ],
            [
             0.6666666666666666,
             "#ed7953"
            ],
            [
             0.7777777777777778,
             "#fb9f3a"
            ],
            [
             0.8888888888888888,
             "#fdca26"
            ],
            [
             1,
             "#f0f921"
            ]
           ]
          },
          "colorway": [
           "#636efa",
           "#EF553B",
           "#00cc96",
           "#ab63fa",
           "#FFA15A",
           "#19d3f3",
           "#FF6692",
           "#B6E880",
           "#FF97FF",
           "#FECB52"
          ],
          "font": {
           "color": "#2a3f5f"
          },
          "geo": {
           "bgcolor": "white",
           "lakecolor": "white",
           "landcolor": "#E5ECF6",
           "showlakes": true,
           "showland": true,
           "subunitcolor": "white"
          },
          "hoverlabel": {
           "align": "left"
          },
          "hovermode": "closest",
          "mapbox": {
           "style": "light"
          },
          "paper_bgcolor": "white",
          "plot_bgcolor": "#E5ECF6",
          "polar": {
           "angularaxis": {
            "gridcolor": "white",
            "linecolor": "white",
            "ticks": ""
           },
           "bgcolor": "#E5ECF6",
           "radialaxis": {
            "gridcolor": "white",
            "linecolor": "white",
            "ticks": ""
           }
          },
          "scene": {
           "xaxis": {
            "backgroundcolor": "#E5ECF6",
            "gridcolor": "white",
            "gridwidth": 2,
            "linecolor": "white",
            "showbackground": true,
            "ticks": "",
            "zerolinecolor": "white"
           },
           "yaxis": {
            "backgroundcolor": "#E5ECF6",
            "gridcolor": "white",
            "gridwidth": 2,
            "linecolor": "white",
            "showbackground": true,
            "ticks": "",
            "zerolinecolor": "white"
           },
           "zaxis": {
            "backgroundcolor": "#E5ECF6",
            "gridcolor": "white",
            "gridwidth": 2,
            "linecolor": "white",
            "showbackground": true,
            "ticks": "",
            "zerolinecolor": "white"
           }
          },
          "shapedefaults": {
           "line": {
            "color": "#2a3f5f"
           }
          },
          "ternary": {
           "aaxis": {
            "gridcolor": "white",
            "linecolor": "white",
            "ticks": ""
           },
           "baxis": {
            "gridcolor": "white",
            "linecolor": "white",
            "ticks": ""
           },
           "bgcolor": "#E5ECF6",
           "caxis": {
            "gridcolor": "white",
            "linecolor": "white",
            "ticks": ""
           }
          },
          "title": {
           "x": 0.05
          },
          "xaxis": {
           "automargin": true,
           "gridcolor": "white",
           "linecolor": "white",
           "ticks": "",
           "title": {
            "standoff": 15
           },
           "zerolinecolor": "white",
           "zerolinewidth": 2
          },
          "yaxis": {
           "automargin": true,
           "gridcolor": "white",
           "linecolor": "white",
           "ticks": "",
           "title": {
            "standoff": 15
           },
           "zerolinecolor": "white",
           "zerolinewidth": 2
          }
         }
        },
        "xaxis": {
         "rangeslider": {
          "visible": false
         }
        }
       }
      },
      "text/html": [
       "<div>                            <div id=\"1c178726-a0c5-452c-8413-1c73ee1b0954\" class=\"plotly-graph-div\" style=\"height:525px; width:100%;\"></div>            <script type=\"text/javascript\">                require([\"plotly\"], function(Plotly) {                    window.PLOTLYENV=window.PLOTLYENV || {};                                    if (document.getElementById(\"1c178726-a0c5-452c-8413-1c73ee1b0954\")) {                    Plotly.newPlot(                        \"1c178726-a0c5-452c-8413-1c73ee1b0954\",                        [{\"close\":[12.0,12.13,12.24,12.14,11.96,11.75,11.73,11.7,12.08,12.4,12.23,11.8,12.06,11.37,10.96,10.82,10.68,10.87,10.78,11.25],\"high\":[12.76,12.68,12.67,12.49,12.59,12.09,11.89,12.24,12.24,12.72,12.46,12.24,12.28,12.18,11.54,11.09,10.98,11.03,10.97,11.33],\"low\":[10.48,12.0,12.11,10.79,11.17,11.59,10.31,10.2,9.98,9.5,10.65,11.46,11.76,10.41,10.86,9.37,9.81,9.8,10.08,10.34],\"open\":[11.52,12.0,12.13,12.24,12.14,11.96,11.75,11.73,11.7,12.08,12.4,12.23,11.8,12.06,11.37,10.96,10.82,10.68,10.87,10.78],\"x\":[\"2023-08-14T00:00:00+05:30\",\"2023-08-16T00:00:00+05:30\",\"2023-08-17T00:00:00+05:30\",\"2023-08-18T00:00:00+05:30\",\"2023-08-21T00:00:00+05:30\",\"2023-08-22T00:00:00+05:30\",\"2023-08-23T00:00:00+05:30\",\"2023-08-24T00:00:00+05:30\",\"2023-08-25T00:00:00+05:30\",\"2023-08-28T00:00:00+05:30\",\"2023-08-29T00:00:00+05:30\",\"2023-08-30T00:00:00+05:30\",\"2023-08-31T00:00:00+05:30\",\"2023-09-01T00:00:00+05:30\",\"2023-09-04T00:00:00+05:30\",\"2023-09-05T00:00:00+05:30\",\"2023-09-06T00:00:00+05:30\",\"2023-09-07T00:00:00+05:30\",\"2023-09-08T00:00:00+05:30\",\"2023-09-11T00:00:00+05:30\"],\"type\":\"candlestick\"}],                        {\"template\":{\"data\":{\"histogram2dcontour\":[{\"type\":\"histogram2dcontour\",\"colorbar\":{\"outlinewidth\":0,\"ticks\":\"\"},\"colorscale\":[[0.0,\"#0d0887\"],[0.1111111111111111,\"#46039f\"],[0.2222222222222222,\"#7201a8\"],[0.3333333333333333,\"#9c179e\"],[0.4444444444444444,\"#bd3786\"],[0.5555555555555556,\"#d8576b\"],[0.6666666666666666,\"#ed7953\"],[0.7777777777777778,\"#fb9f3a\"],[0.8888888888888888,\"#fdca26\"],[1.0,\"#f0f921\"]]}],\"choropleth\":[{\"type\":\"choropleth\",\"colorbar\":{\"outlinewidth\":0,\"ticks\":\"\"}}],\"histogram2d\":[{\"type\":\"histogram2d\",\"colorbar\":{\"outlinewidth\":0,\"ticks\":\"\"},\"colorscale\":[[0.0,\"#0d0887\"],[0.1111111111111111,\"#46039f\"],[0.2222222222222222,\"#7201a8\"],[0.3333333333333333,\"#9c179e\"],[0.4444444444444444,\"#bd3786\"],[0.5555555555555556,\"#d8576b\"],[0.6666666666666666,\"#ed7953\"],[0.7777777777777778,\"#fb9f3a\"],[0.8888888888888888,\"#fdca26\"],[1.0,\"#f0f921\"]]}],\"heatmap\":[{\"type\":\"heatmap\",\"colorbar\":{\"outlinewidth\":0,\"ticks\":\"\"},\"colorscale\":[[0.0,\"#0d0887\"],[0.1111111111111111,\"#46039f\"],[0.2222222222222222,\"#7201a8\"],[0.3333333333333333,\"#9c179e\"],[0.4444444444444444,\"#bd3786\"],[0.5555555555555556,\"#d8576b\"],[0.6666666666666666,\"#ed7953\"],[0.7777777777777778,\"#fb9f3a\"],[0.8888888888888888,\"#fdca26\"],[1.0,\"#f0f921\"]]}],\"heatmapgl\":[{\"type\":\"heatmapgl\",\"colorbar\":{\"outlinewidth\":0,\"ticks\":\"\"},\"colorscale\":[[0.0,\"#0d0887\"],[0.1111111111111111,\"#46039f\"],[0.2222222222222222,\"#7201a8\"],[0.3333333333333333,\"#9c179e\"],[0.4444444444444444,\"#bd3786\"],[0.5555555555555556,\"#d8576b\"],[0.6666666666666666,\"#ed7953\"],[0.7777777777777778,\"#fb9f3a\"],[0.8888888888888888,\"#fdca26\"],[1.0,\"#f0f921\"]]}],\"contourcarpet\":[{\"type\":\"contourcarpet\",\"colorbar\":{\"outlinewidth\":0,\"ticks\":\"\"}}],\"contour\":[{\"type\":\"contour\",\"colorbar\":{\"outlinewidth\":0,\"ticks\":\"\"},\"colorscale\":[[0.0,\"#0d0887\"],[0.1111111111111111,\"#46039f\"],[0.2222222222222222,\"#7201a8\"],[0.3333333333333333,\"#9c179e\"],[0.4444444444444444,\"#bd3786\"],[0.5555555555555556,\"#d8576b\"],[0.6666666666666666,\"#ed7953\"],[0.7777777777777778,\"#fb9f3a\"],[0.8888888888888888,\"#fdca26\"],[1.0,\"#f0f921\"]]}],\"surface\":[{\"type\":\"surface\",\"colorbar\":{\"outlinewidth\":0,\"ticks\":\"\"},\"colorscale\":[[0.0,\"#0d0887\"],[0.1111111111111111,\"#46039f\"],[0.2222222222222222,\"#7201a8\"],[0.3333333333333333,\"#9c179e\"],[0.4444444444444444,\"#bd3786\"],[0.5555555555555556,\"#d8576b\"],[0.6666666666666666,\"#ed7953\"],[0.7777777777777778,\"#fb9f3a\"],[0.8888888888888888,\"#fdca26\"],[1.0,\"#f0f921\"]]}],\"mesh3d\":[{\"type\":\"mesh3d\",\"colorbar\":{\"outlinewidth\":0,\"ticks\":\"\"}}],\"scatter\":[{\"fillpattern\":{\"fillmode\":\"overlay\",\"size\":10,\"solidity\":0.2},\"type\":\"scatter\"}],\"parcoords\":[{\"type\":\"parcoords\",\"line\":{\"colorbar\":{\"outlinewidth\":0,\"ticks\":\"\"}}}],\"scatterpolargl\":[{\"type\":\"scatterpolargl\",\"marker\":{\"colorbar\":{\"outlinewidth\":0,\"ticks\":\"\"}}}],\"bar\":[{\"error_x\":{\"color\":\"#2a3f5f\"},\"error_y\":{\"color\":\"#2a3f5f\"},\"marker\":{\"line\":{\"color\":\"#E5ECF6\",\"width\":0.5},\"pattern\":{\"fillmode\":\"overlay\",\"size\":10,\"solidity\":0.2}},\"type\":\"bar\"}],\"scattergeo\":[{\"type\":\"scattergeo\",\"marker\":{\"colorbar\":{\"outlinewidth\":0,\"ticks\":\"\"}}}],\"scatterpolar\":[{\"type\":\"scatterpolar\",\"marker\":{\"colorbar\":{\"outlinewidth\":0,\"ticks\":\"\"}}}],\"histogram\":[{\"marker\":{\"pattern\":{\"fillmode\":\"overlay\",\"size\":10,\"solidity\":0.2}},\"type\":\"histogram\"}],\"scattergl\":[{\"type\":\"scattergl\",\"marker\":{\"colorbar\":{\"outlinewidth\":0,\"ticks\":\"\"}}}],\"scatter3d\":[{\"type\":\"scatter3d\",\"line\":{\"colorbar\":{\"outlinewidth\":0,\"ticks\":\"\"}},\"marker\":{\"colorbar\":{\"outlinewidth\":0,\"ticks\":\"\"}}}],\"scattermapbox\":[{\"type\":\"scattermapbox\",\"marker\":{\"colorbar\":{\"outlinewidth\":0,\"ticks\":\"\"}}}],\"scatterternary\":[{\"type\":\"scatterternary\",\"marker\":{\"colorbar\":{\"outlinewidth\":0,\"ticks\":\"\"}}}],\"scattercarpet\":[{\"type\":\"scattercarpet\",\"marker\":{\"colorbar\":{\"outlinewidth\":0,\"ticks\":\"\"}}}],\"carpet\":[{\"aaxis\":{\"endlinecolor\":\"#2a3f5f\",\"gridcolor\":\"white\",\"linecolor\":\"white\",\"minorgridcolor\":\"white\",\"startlinecolor\":\"#2a3f5f\"},\"baxis\":{\"endlinecolor\":\"#2a3f5f\",\"gridcolor\":\"white\",\"linecolor\":\"white\",\"minorgridcolor\":\"white\",\"startlinecolor\":\"#2a3f5f\"},\"type\":\"carpet\"}],\"table\":[{\"cells\":{\"fill\":{\"color\":\"#EBF0F8\"},\"line\":{\"color\":\"white\"}},\"header\":{\"fill\":{\"color\":\"#C8D4E3\"},\"line\":{\"color\":\"white\"}},\"type\":\"table\"}],\"barpolar\":[{\"marker\":{\"line\":{\"color\":\"#E5ECF6\",\"width\":0.5},\"pattern\":{\"fillmode\":\"overlay\",\"size\":10,\"solidity\":0.2}},\"type\":\"barpolar\"}],\"pie\":[{\"automargin\":true,\"type\":\"pie\"}]},\"layout\":{\"autotypenumbers\":\"strict\",\"colorway\":[\"#636efa\",\"#EF553B\",\"#00cc96\",\"#ab63fa\",\"#FFA15A\",\"#19d3f3\",\"#FF6692\",\"#B6E880\",\"#FF97FF\",\"#FECB52\"],\"font\":{\"color\":\"#2a3f5f\"},\"hovermode\":\"closest\",\"hoverlabel\":{\"align\":\"left\"},\"paper_bgcolor\":\"white\",\"plot_bgcolor\":\"#E5ECF6\",\"polar\":{\"bgcolor\":\"#E5ECF6\",\"angularaxis\":{\"gridcolor\":\"white\",\"linecolor\":\"white\",\"ticks\":\"\"},\"radialaxis\":{\"gridcolor\":\"white\",\"linecolor\":\"white\",\"ticks\":\"\"}},\"ternary\":{\"bgcolor\":\"#E5ECF6\",\"aaxis\":{\"gridcolor\":\"white\",\"linecolor\":\"white\",\"ticks\":\"\"},\"baxis\":{\"gridcolor\":\"white\",\"linecolor\":\"white\",\"ticks\":\"\"},\"caxis\":{\"gridcolor\":\"white\",\"linecolor\":\"white\",\"ticks\":\"\"}},\"coloraxis\":{\"colorbar\":{\"outlinewidth\":0,\"ticks\":\"\"}},\"colorscale\":{\"sequential\":[[0.0,\"#0d0887\"],[0.1111111111111111,\"#46039f\"],[0.2222222222222222,\"#7201a8\"],[0.3333333333333333,\"#9c179e\"],[0.4444444444444444,\"#bd3786\"],[0.5555555555555556,\"#d8576b\"],[0.6666666666666666,\"#ed7953\"],[0.7777777777777778,\"#fb9f3a\"],[0.8888888888888888,\"#fdca26\"],[1.0,\"#f0f921\"]],\"sequentialminus\":[[0.0,\"#0d0887\"],[0.1111111111111111,\"#46039f\"],[0.2222222222222222,\"#7201a8\"],[0.3333333333333333,\"#9c179e\"],[0.4444444444444444,\"#bd3786\"],[0.5555555555555556,\"#d8576b\"],[0.6666666666666666,\"#ed7953\"],[0.7777777777777778,\"#fb9f3a\"],[0.8888888888888888,\"#fdca26\"],[1.0,\"#f0f921\"]],\"diverging\":[[0,\"#8e0152\"],[0.1,\"#c51b7d\"],[0.2,\"#de77ae\"],[0.3,\"#f1b6da\"],[0.4,\"#fde0ef\"],[0.5,\"#f7f7f7\"],[0.6,\"#e6f5d0\"],[0.7,\"#b8e186\"],[0.8,\"#7fbc41\"],[0.9,\"#4d9221\"],[1,\"#276419\"]]},\"xaxis\":{\"gridcolor\":\"white\",\"linecolor\":\"white\",\"ticks\":\"\",\"title\":{\"standoff\":15},\"zerolinecolor\":\"white\",\"automargin\":true,\"zerolinewidth\":2},\"yaxis\":{\"gridcolor\":\"white\",\"linecolor\":\"white\",\"ticks\":\"\",\"title\":{\"standoff\":15},\"zerolinecolor\":\"white\",\"automargin\":true,\"zerolinewidth\":2},\"scene\":{\"xaxis\":{\"backgroundcolor\":\"#E5ECF6\",\"gridcolor\":\"white\",\"linecolor\":\"white\",\"showbackground\":true,\"ticks\":\"\",\"zerolinecolor\":\"white\",\"gridwidth\":2},\"yaxis\":{\"backgroundcolor\":\"#E5ECF6\",\"gridcolor\":\"white\",\"linecolor\":\"white\",\"showbackground\":true,\"ticks\":\"\",\"zerolinecolor\":\"white\",\"gridwidth\":2},\"zaxis\":{\"backgroundcolor\":\"#E5ECF6\",\"gridcolor\":\"white\",\"linecolor\":\"white\",\"showbackground\":true,\"ticks\":\"\",\"zerolinecolor\":\"white\",\"gridwidth\":2}},\"shapedefaults\":{\"line\":{\"color\":\"#2a3f5f\"}},\"annotationdefaults\":{\"arrowcolor\":\"#2a3f5f\",\"arrowhead\":0,\"arrowwidth\":1},\"geo\":{\"bgcolor\":\"white\",\"landcolor\":\"#E5ECF6\",\"subunitcolor\":\"white\",\"showland\":true,\"showlakes\":true,\"lakecolor\":\"white\"},\"title\":{\"x\":0.05},\"mapbox\":{\"style\":\"light\"}}},\"xaxis\":{\"rangeslider\":{\"visible\":false}}},                        {\"responsive\": true}                    ).then(function(){\n",
       "                            \n",
       "var gd = document.getElementById('1c178726-a0c5-452c-8413-1c73ee1b0954');\n",
       "var x = new MutationObserver(function (mutations, observer) {{\n",
       "        var display = window.getComputedStyle(gd).display;\n",
       "        if (!display || display === 'none') {{\n",
       "            console.log([gd, 'removed!']);\n",
       "            Plotly.purge(gd);\n",
       "            observer.disconnect();\n",
       "        }}\n",
       "}});\n",
       "\n",
       "// Listen for the removal of the full notebook cells\n",
       "var notebookContainer = gd.closest('#notebook-container');\n",
       "if (notebookContainer) {{\n",
       "    x.observe(notebookContainer, {childList: true});\n",
       "}}\n",
       "\n",
       "// Listen for the clearing of the current output cell\n",
       "var outputEl = gd.closest('.output');\n",
       "if (outputEl) {{\n",
       "    x.observe(outputEl, {childList: true});\n",
       "}}\n",
       "\n",
       "                        })                };                });            </script>        </div>"
      ]
     },
     "metadata": {},
     "output_type": "display_data"
    }
   ],
   "source": [
    "import tkinter as tk\n",
    "\n",
    "win = tk.Tk()\n",
    "\n",
    "fig = go.Figure(data=[go.Candlestick(x=hist_data[2]['date'],\n",
    "                open=hist_data[2]['open'],\n",
    "                high=hist_data[2]['high'],\n",
    "                low=hist_data[2]['low'],\n",
    "                close=hist_data[2]['close'])])\n",
    "fig.update_layout(xaxis_rangeslider_visible=False)\n",
    "\n",
    "\n",
    "fig.show()"
   ]
  },
  {
   "cell_type": "code",
   "execution_count": 52,
   "metadata": {},
   "outputs": [
    {
     "name": "stdout",
     "output_type": "stream",
     "text": [
      "GOLD23OCTFUT     63590407\n"
     ]
    }
   ],
   "source": [
    "# import tradingDB as tdb\n",
    "# tdbobj = tdb.tradingDB()\n",
    "# grph = tdbobj.market_snapshot()\n",
    "\n",
    "# ins = session.instruments(exchange='CDS')\n",
    "# inspd = pd.DataFrame(ins)\n",
    "# inspd[['tradingsymbol','instrument_token']].to_csv('kitemcxcodes.csv')\n",
    "\n",
    "current_month = datetime.date.strftime(datetime.date.today(),'%b')\n",
    "next_month = datetime.date.strftime(datetime.date.today() + datetime.timedelta(days=31),'%b') \n",
    "current_year = datetime.date.strftime(datetime.date.today(),'%y')\n",
    "crude = 'GOLD'+current_year+next_month.upper()+'FUT'\n",
    "usdinr = 'USDINR'+current_year+current_month.upper()+'FUT'\n",
    "\n",
    "ins = session.instruments(exchange='MCX')\n",
    "inspd = pd.DataFrame(ins)\n",
    "# inspd[(inspd['tradingsymbol'].str.contains(u'GOLD*****FUT')) & (inspd['segment'] == 'MCX-FUT')].sort_values(by='expiry').head(1)\n",
    "print(crude+'     '+str(inspd[inspd['tradingsymbol'] == crude]['instrument_token'].values[0]))\n",
    "\n",
    "\n",
    "# session.quote('MCX:'+crude)"
   ]
  },
  {
   "cell_type": "code",
   "execution_count": 22,
   "metadata": {},
   "outputs": [
    {
     "data": {
      "text/html": [
       "<div>\n",
       "<style scoped>\n",
       "    .dataframe tbody tr th:only-of-type {\n",
       "        vertical-align: middle;\n",
       "    }\n",
       "\n",
       "    .dataframe tbody tr th {\n",
       "        vertical-align: top;\n",
       "    }\n",
       "\n",
       "    .dataframe thead th {\n",
       "        text-align: right;\n",
       "    }\n",
       "</style>\n",
       "<table border=\"1\" class=\"dataframe\">\n",
       "  <thead>\n",
       "    <tr style=\"text-align: right;\">\n",
       "      <th></th>\n",
       "      <th>date</th>\n",
       "      <th>open</th>\n",
       "      <th>high</th>\n",
       "      <th>low</th>\n",
       "      <th>close</th>\n",
       "      <th>volume</th>\n",
       "    </tr>\n",
       "  </thead>\n",
       "  <tbody>\n",
       "    <tr>\n",
       "      <th>0</th>\n",
       "      <td>2023-08-14 00:00:00+05:30</td>\n",
       "      <td>83.0500</td>\n",
       "      <td>83.2625</td>\n",
       "      <td>83.0500</td>\n",
       "      <td>83.2200</td>\n",
       "      <td>596512</td>\n",
       "    </tr>\n",
       "    <tr>\n",
       "      <th>1</th>\n",
       "      <td>2023-08-17 00:00:00+05:30</td>\n",
       "      <td>83.1550</td>\n",
       "      <td>83.2850</td>\n",
       "      <td>83.0650</td>\n",
       "      <td>83.1950</td>\n",
       "      <td>450063</td>\n",
       "    </tr>\n",
       "    <tr>\n",
       "      <th>2</th>\n",
       "      <td>2023-08-18 00:00:00+05:30</td>\n",
       "      <td>83.1375</td>\n",
       "      <td>83.2500</td>\n",
       "      <td>83.1300</td>\n",
       "      <td>83.2175</td>\n",
       "      <td>246969</td>\n",
       "    </tr>\n",
       "    <tr>\n",
       "      <th>3</th>\n",
       "      <td>2023-08-21 00:00:00+05:30</td>\n",
       "      <td>83.2000</td>\n",
       "      <td>83.2800</td>\n",
       "      <td>83.1325</td>\n",
       "      <td>83.2325</td>\n",
       "      <td>297459</td>\n",
       "    </tr>\n",
       "    <tr>\n",
       "      <th>4</th>\n",
       "      <td>2023-08-22 00:00:00+05:30</td>\n",
       "      <td>83.1900</td>\n",
       "      <td>83.2050</td>\n",
       "      <td>83.0325</td>\n",
       "      <td>83.0925</td>\n",
       "      <td>397905</td>\n",
       "    </tr>\n",
       "    <tr>\n",
       "      <th>5</th>\n",
       "      <td>2023-08-23 00:00:00+05:30</td>\n",
       "      <td>83.1000</td>\n",
       "      <td>83.1200</td>\n",
       "      <td>82.7925</td>\n",
       "      <td>82.8175</td>\n",
       "      <td>854694</td>\n",
       "    </tr>\n",
       "    <tr>\n",
       "      <th>6</th>\n",
       "      <td>2023-08-24 00:00:00+05:30</td>\n",
       "      <td>82.7000</td>\n",
       "      <td>82.7025</td>\n",
       "      <td>82.4550</td>\n",
       "      <td>82.6600</td>\n",
       "      <td>1021798</td>\n",
       "    </tr>\n",
       "    <tr>\n",
       "      <th>7</th>\n",
       "      <td>2023-08-25 00:00:00+05:30</td>\n",
       "      <td>82.6875</td>\n",
       "      <td>82.8075</td>\n",
       "      <td>82.6875</td>\n",
       "      <td>82.7400</td>\n",
       "      <td>789945</td>\n",
       "    </tr>\n",
       "    <tr>\n",
       "      <th>8</th>\n",
       "      <td>2023-08-28 00:00:00+05:30</td>\n",
       "      <td>82.6625</td>\n",
       "      <td>82.7400</td>\n",
       "      <td>82.6100</td>\n",
       "      <td>82.7175</td>\n",
       "      <td>1503372</td>\n",
       "    </tr>\n",
       "    <tr>\n",
       "      <th>9</th>\n",
       "      <td>2023-08-29 00:00:00+05:30</td>\n",
       "      <td>82.7150</td>\n",
       "      <td>83.0075</td>\n",
       "      <td>82.5800</td>\n",
       "      <td>82.8375</td>\n",
       "      <td>2277563</td>\n",
       "    </tr>\n",
       "    <tr>\n",
       "      <th>10</th>\n",
       "      <td>2023-08-30 00:00:00+05:30</td>\n",
       "      <td>82.7975</td>\n",
       "      <td>82.8975</td>\n",
       "      <td>82.7050</td>\n",
       "      <td>82.8050</td>\n",
       "      <td>1783093</td>\n",
       "    </tr>\n",
       "    <tr>\n",
       "      <th>11</th>\n",
       "      <td>2023-08-31 00:00:00+05:30</td>\n",
       "      <td>82.7500</td>\n",
       "      <td>82.8675</td>\n",
       "      <td>82.6600</td>\n",
       "      <td>82.8275</td>\n",
       "      <td>2113364</td>\n",
       "    </tr>\n",
       "    <tr>\n",
       "      <th>12</th>\n",
       "      <td>2023-09-01 00:00:00+05:30</td>\n",
       "      <td>82.7500</td>\n",
       "      <td>82.8300</td>\n",
       "      <td>82.6625</td>\n",
       "      <td>82.7775</td>\n",
       "      <td>2259078</td>\n",
       "    </tr>\n",
       "    <tr>\n",
       "      <th>13</th>\n",
       "      <td>2023-09-04 00:00:00+05:30</td>\n",
       "      <td>82.7525</td>\n",
       "      <td>82.8550</td>\n",
       "      <td>82.7300</td>\n",
       "      <td>82.7700</td>\n",
       "      <td>1216403</td>\n",
       "    </tr>\n",
       "    <tr>\n",
       "      <th>14</th>\n",
       "      <td>2023-09-05 00:00:00+05:30</td>\n",
       "      <td>82.8125</td>\n",
       "      <td>83.1350</td>\n",
       "      <td>82.8125</td>\n",
       "      <td>83.1275</td>\n",
       "      <td>3764162</td>\n",
       "    </tr>\n",
       "    <tr>\n",
       "      <th>15</th>\n",
       "      <td>2023-09-06 00:00:00+05:30</td>\n",
       "      <td>83.0500</td>\n",
       "      <td>83.2400</td>\n",
       "      <td>82.9000</td>\n",
       "      <td>83.1900</td>\n",
       "      <td>2535423</td>\n",
       "    </tr>\n",
       "    <tr>\n",
       "      <th>16</th>\n",
       "      <td>2023-09-07 00:00:00+05:30</td>\n",
       "      <td>83.1525</td>\n",
       "      <td>83.2850</td>\n",
       "      <td>83.1425</td>\n",
       "      <td>83.2600</td>\n",
       "      <td>2370214</td>\n",
       "    </tr>\n",
       "    <tr>\n",
       "      <th>17</th>\n",
       "      <td>2023-09-08 00:00:00+05:30</td>\n",
       "      <td>83.1900</td>\n",
       "      <td>83.2225</td>\n",
       "      <td>82.9525</td>\n",
       "      <td>83.0725</td>\n",
       "      <td>2740085</td>\n",
       "    </tr>\n",
       "    <tr>\n",
       "      <th>18</th>\n",
       "      <td>2023-09-11 00:00:00+05:30</td>\n",
       "      <td>83.0500</td>\n",
       "      <td>83.1150</td>\n",
       "      <td>82.8750</td>\n",
       "      <td>83.0850</td>\n",
       "      <td>2523411</td>\n",
       "    </tr>\n",
       "    <tr>\n",
       "      <th>19</th>\n",
       "      <td>2023-09-12 00:00:00+05:30</td>\n",
       "      <td>82.9900</td>\n",
       "      <td>83.0675</td>\n",
       "      <td>82.9200</td>\n",
       "      <td>82.9600</td>\n",
       "      <td>1327059</td>\n",
       "    </tr>\n",
       "  </tbody>\n",
       "</table>\n",
       "</div>"
      ],
      "text/plain": [
       "                        date     open     high      low    close   volume\n",
       "0  2023-08-14 00:00:00+05:30  83.0500  83.2625  83.0500  83.2200   596512\n",
       "1  2023-08-17 00:00:00+05:30  83.1550  83.2850  83.0650  83.1950   450063\n",
       "2  2023-08-18 00:00:00+05:30  83.1375  83.2500  83.1300  83.2175   246969\n",
       "3  2023-08-21 00:00:00+05:30  83.2000  83.2800  83.1325  83.2325   297459\n",
       "4  2023-08-22 00:00:00+05:30  83.1900  83.2050  83.0325  83.0925   397905\n",
       "5  2023-08-23 00:00:00+05:30  83.1000  83.1200  82.7925  82.8175   854694\n",
       "6  2023-08-24 00:00:00+05:30  82.7000  82.7025  82.4550  82.6600  1021798\n",
       "7  2023-08-25 00:00:00+05:30  82.6875  82.8075  82.6875  82.7400   789945\n",
       "8  2023-08-28 00:00:00+05:30  82.6625  82.7400  82.6100  82.7175  1503372\n",
       "9  2023-08-29 00:00:00+05:30  82.7150  83.0075  82.5800  82.8375  2277563\n",
       "10 2023-08-30 00:00:00+05:30  82.7975  82.8975  82.7050  82.8050  1783093\n",
       "11 2023-08-31 00:00:00+05:30  82.7500  82.8675  82.6600  82.8275  2113364\n",
       "12 2023-09-01 00:00:00+05:30  82.7500  82.8300  82.6625  82.7775  2259078\n",
       "13 2023-09-04 00:00:00+05:30  82.7525  82.8550  82.7300  82.7700  1216403\n",
       "14 2023-09-05 00:00:00+05:30  82.8125  83.1350  82.8125  83.1275  3764162\n",
       "15 2023-09-06 00:00:00+05:30  83.0500  83.2400  82.9000  83.1900  2535423\n",
       "16 2023-09-07 00:00:00+05:30  83.1525  83.2850  83.1425  83.2600  2370214\n",
       "17 2023-09-08 00:00:00+05:30  83.1900  83.2225  82.9525  83.0725  2740085\n",
       "18 2023-09-11 00:00:00+05:30  83.0500  83.1150  82.8750  83.0850  2523411\n",
       "19 2023-09-12 00:00:00+05:30  82.9900  83.0675  82.9200  82.9600  1327059"
      ]
     },
     "execution_count": 22,
     "metadata": {},
     "output_type": "execute_result"
    }
   ],
   "source": [
    "pd.DataFrame(session.historical_data(65260551,from_date,to_date,'day'))\n",
    "pd.DataFrame(session.historical_data(2433027,from_date,to_date,'day'))"
   ]
  },
  {
   "cell_type": "code",
   "execution_count": 32,
   "metadata": {},
   "outputs": [
    {
     "data": {
      "text/plain": [
       "instrument_token                                               260105\n",
       "last_price                                                    44539.1\n",
       "net_change                                                      -39.2\n",
       "ohlc                {'open': 44625.05, 'high': 44668.7, 'low': 444...\n",
       "timestamp                                         2023-09-05 15:31:12\n",
       "tradingsymbol                                              NIFTY BANK\n",
       "Name: NSE:NIFTY BANK, dtype: object"
      ]
     },
     "execution_count": 32,
     "metadata": {},
     "output_type": "execute_result"
    }
   ],
   "source": [
    "pd.DataFrame(session.quote('NSE:NIFTY BANK'))['NSE:NIFTY BANK']"
   ]
  },
  {
   "cell_type": "code",
   "execution_count": 3,
   "metadata": {},
   "outputs": [
    {
     "name": "stdout",
     "output_type": "stream",
     "text": [
      "{'variety': 'regular', 'exchange': 'NFO', 'tradingsymbol': 'TATAPOWER23AUG250CE', 'transaction_type': 'SELL', 'quantity': 3375, 'product': 'NRML', 'order_type': 'LIMIT', 'price': 15, 'validity': 'DAY'}\n"
     ]
    },
    {
     "data": {
      "text/plain": [
       "{'status': 'error',\n",
       " 'message': 'invalid json',\n",
       " 'data': {},\n",
       " 'error_type': 'InputException'}"
      ]
     },
     "execution_count": 3,
     "metadata": {},
     "output_type": "execute_result"
    }
   ],
   "source": [
    "variety = session.VARIETY_REGULAR\n",
    "exchange= session.EXCHANGE_NFO\n",
    "tradingsymbol='TATAPOWER23AUG250CE'\n",
    "transaction_type=session.TRANSACTION_TYPE_SELL\n",
    "quantity=3375\n",
    "product= session.PRODUCT_NRML\n",
    "order_type = session.ORDER_TYPE_LIMIT\n",
    "price=15\n",
    "validity=session.VALIDITY_DAY\n",
    "disclosed_quantity=None\n",
    "trigger_price=None\n",
    "squareoff=None \n",
    "stoploss=None\n",
    "trailing_stoploss=None\n",
    "tag=None\n",
    "\n",
    "margin = session.order_margins(variety,exchange, tradingsymbol, transaction_type, quantity, product, order_type, price,\n",
    "                    validity, disclosed_quantity, trigger_price, squareoff=None, stoploss=None,\n",
    "                    trailing_stoploss=None, tag=None)\n",
    "\n",
    "margin"
   ]
  },
  {
   "cell_type": "code",
   "execution_count": 10,
   "metadata": {},
   "outputs": [
    {
     "data": {
      "text/plain": [
       "{'NSE:LIQUIDBEES': {'instrument_token': 2817537,\n",
       "  'timestamp': '2023-08-28 15:22:04',\n",
       "  'last_trade_time': '2023-08-28 15:22:00',\n",
       "  'last_price': 1000,\n",
       "  'last_quantity': 20,\n",
       "  'buy_quantity': 3963341,\n",
       "  'sell_quantity': 3597881,\n",
       "  'volume': 1484612,\n",
       "  'average_price': 1000,\n",
       "  'oi': 0,\n",
       "  'oi_day_high': 0,\n",
       "  'oi_day_low': 0,\n",
       "  'net_change': 0,\n",
       "  'lower_circuit_limit': 950,\n",
       "  'upper_circuit_limit': 1050,\n",
       "  'ohlc': {'open': 1000, 'high': 1000.01, 'low': 999.99, 'close': 1000},\n",
       "  'depth': {'buy': [{'price': 1000, 'quantity': 41844, 'orders': 36},\n",
       "    {'price': 999.99, 'quantity': 3852952, 'orders': 115},\n",
       "    {'price': 999.98, 'quantity': 99, 'orders': 5},\n",
       "    {'price': 999.97, 'quantity': 1, 'orders': 1},\n",
       "    {'price': 999.95, 'quantity': 350, 'orders': 3}],\n",
       "   'sell': [{'price': 1000.01, 'quantity': 3559001, 'orders': 98},\n",
       "    {'price': 1000.02, 'quantity': 10000, 'orders': 1},\n",
       "    {'price': 1000.03, 'quantity': 10, 'orders': 1},\n",
       "    {'price': 1000.05, 'quantity': 16, 'orders': 1},\n",
       "    {'price': 1000.1, 'quantity': 150, 'orders': 2}]}}}"
      ]
     },
     "execution_count": 10,
     "metadata": {},
     "output_type": "execute_result"
    }
   ],
   "source": [
    "qt = session.quote('NSE:LIQUIDBEES')\n",
    "qt"
   ]
  },
  {
   "cell_type": "code",
   "execution_count": 176,
   "metadata": {},
   "outputs": [
    {
     "data": {
      "text/plain": [
       "615"
      ]
     },
     "execution_count": 176,
     "metadata": {},
     "output_type": "execute_result"
    }
   ],
   "source": [
    "scrip = 'TATAPOWER'\n",
    "atm = mu.find_atm(614,5)\n",
    "atm"
   ]
  },
  {
   "cell_type": "code",
   "execution_count": 177,
   "metadata": {},
   "outputs": [
    {
     "data": {
      "text/html": [
       "<div>\n",
       "<style scoped>\n",
       "    .dataframe tbody tr th:only-of-type {\n",
       "        vertical-align: middle;\n",
       "    }\n",
       "\n",
       "    .dataframe tbody tr th {\n",
       "        vertical-align: top;\n",
       "    }\n",
       "\n",
       "    .dataframe thead th {\n",
       "        text-align: right;\n",
       "    }\n",
       "</style>\n",
       "<table border=\"1\" class=\"dataframe\">\n",
       "  <thead>\n",
       "    <tr style=\"text-align: right;\">\n",
       "      <th></th>\n",
       "      <th>strike</th>\n",
       "    </tr>\n",
       "    <tr>\n",
       "      <th>tradingsymbol</th>\n",
       "      <th></th>\n",
       "    </tr>\n",
       "  </thead>\n",
       "  <tbody>\n",
       "    <tr>\n",
       "      <th>NFO:TATAPOWER23AUG177.5CE</th>\n",
       "      <td>177.5</td>\n",
       "    </tr>\n",
       "    <tr>\n",
       "      <th>NFO:TATAPOWER23AUG177.5PE</th>\n",
       "      <td>177.5</td>\n",
       "    </tr>\n",
       "    <tr>\n",
       "      <th>NFO:TATAPOWER23AUG180CE</th>\n",
       "      <td>180.0</td>\n",
       "    </tr>\n",
       "    <tr>\n",
       "      <th>NFO:TATAPOWER23AUG180PE</th>\n",
       "      <td>180.0</td>\n",
       "    </tr>\n",
       "    <tr>\n",
       "      <th>NFO:TATAPOWER23AUG182.5CE</th>\n",
       "      <td>182.5</td>\n",
       "    </tr>\n",
       "    <tr>\n",
       "      <th>...</th>\n",
       "      <td>...</td>\n",
       "    </tr>\n",
       "    <tr>\n",
       "      <th>NFO:TATAPOWER23AUG275PE</th>\n",
       "      <td>275.0</td>\n",
       "    </tr>\n",
       "    <tr>\n",
       "      <th>NFO:TATAPOWER23AUG277.5CE</th>\n",
       "      <td>277.5</td>\n",
       "    </tr>\n",
       "    <tr>\n",
       "      <th>NFO:TATAPOWER23AUG277.5PE</th>\n",
       "      <td>277.5</td>\n",
       "    </tr>\n",
       "    <tr>\n",
       "      <th>NFO:TATAPOWER23AUG280CE</th>\n",
       "      <td>280.0</td>\n",
       "    </tr>\n",
       "    <tr>\n",
       "      <th>NFO:TATAPOWER23AUG280PE</th>\n",
       "      <td>280.0</td>\n",
       "    </tr>\n",
       "  </tbody>\n",
       "</table>\n",
       "<p>84 rows × 1 columns</p>\n",
       "</div>"
      ],
      "text/plain": [
       "                           strike\n",
       "tradingsymbol                    \n",
       "NFO:TATAPOWER23AUG177.5CE   177.5\n",
       "NFO:TATAPOWER23AUG177.5PE   177.5\n",
       "NFO:TATAPOWER23AUG180CE     180.0\n",
       "NFO:TATAPOWER23AUG180PE     180.0\n",
       "NFO:TATAPOWER23AUG182.5CE   182.5\n",
       "...                           ...\n",
       "NFO:TATAPOWER23AUG275PE     275.0\n",
       "NFO:TATAPOWER23AUG277.5CE   277.5\n",
       "NFO:TATAPOWER23AUG277.5PE   277.5\n",
       "NFO:TATAPOWER23AUG280CE     280.0\n",
       "NFO:TATAPOWER23AUG280PE     280.0\n",
       "\n",
       "[84 rows x 1 columns]"
      ]
     },
     "execution_count": 177,
     "metadata": {},
     "output_type": "execute_result"
    }
   ],
   "source": [
    "inspd = pd.DataFrame(ins)\n",
    "#inspd = inspd[(inspd['name'] == scrip) & (inspd['expiry'] == expiry) & (inspd['strike'] >= 18000) & (inspd['strike'] <= 20500) ][['tradingsymbol','strike']]\n",
    "inspd = inspd[(inspd['name'] == scrip) & (inspd['expiry'] == expiry) & (inspd['strike'] > 0)][['tradingsymbol','strike']]\n",
    "inspd['tradingsymbol'] = 'NFO:' + inspd['tradingsymbol']\n",
    "inspd.set_index('tradingsymbol',inplace=True)\n",
    "inspd\n",
    "inslist = list(inspd.index)\n",
    "inslist = inslist[int(len(inslist)/2-len(inslist)/4):int(len(inslist)/2+len(inslist)/4)]\n",
    "inslist\n"
   ]
  },
  {
   "cell_type": "code",
   "execution_count": null,
   "metadata": {},
   "outputs": [],
   "source": []
  },
  {
   "cell_type": "code",
   "execution_count": 105,
   "metadata": {},
   "outputs": [
    {
     "data": {
      "text/plain": [
       "'NFO:NIFTY23AUG19200CE'"
      ]
     },
     "execution_count": 105,
     "metadata": {},
     "output_type": "execute_result"
    }
   ],
   "source": []
  },
  {
   "cell_type": "code",
   "execution_count": 136,
   "metadata": {},
   "outputs": [],
   "source": [
    "def kite_oc(df):\n",
    "    def kitequote_to_oc(quote):\n",
    "        oc = pd.DataFrame(quote)\n",
    "        for key in quote.key:\n",
    "            qt = quote[key]\n",
    "            oc = pd.DataFrame(qt)\n",
    "    for strike in set(list(df['strike'])):\n",
    "        ce = 'NFO:'+ df[df['strike'] == strike]['tradingsymbol'].head(1).values[0]\n",
    "        pe = 'NFO:'+ df[df['strike'] == strike]['tradingsymbol'].head(1).values[0]\n",
    "        "
   ]
  },
  {
   "cell_type": "code",
   "execution_count": 179,
   "metadata": {},
   "outputs": [],
   "source": []
  },
  {
   "cell_type": "code",
   "execution_count": 1,
   "metadata": {},
   "outputs": [
    {
     "ename": "NameError",
     "evalue": "name 'pd' is not defined",
     "output_type": "error",
     "traceback": [
      "\u001b[1;31m---------------------------------------------------------------------------\u001b[0m",
      "\u001b[1;31mNameError\u001b[0m                                 Traceback (most recent call last)",
      "\u001b[1;32m~\\AppData\\Local\\Temp\\ipykernel_13212\\1343882775.py\u001b[0m in \u001b[0;36m<module>\u001b[1;34m\u001b[0m\n\u001b[1;32m----> 1\u001b[1;33m \u001b[0moc\u001b[0m \u001b[1;33m=\u001b[0m \u001b[0mpd\u001b[0m\u001b[1;33m.\u001b[0m\u001b[0mDataFrame\u001b[0m\u001b[1;33m(\u001b[0m\u001b[0mqt\u001b[0m\u001b[1;33m)\u001b[0m\u001b[1;33m.\u001b[0m\u001b[0mT\u001b[0m\u001b[1;33m\u001b[0m\u001b[1;33m\u001b[0m\u001b[0m\n\u001b[0m\u001b[0;32m      2\u001b[0m \u001b[0moc\u001b[0m\u001b[1;33m.\u001b[0m\u001b[0mindex\u001b[0m\u001b[1;33m.\u001b[0m\u001b[0mname\u001b[0m \u001b[1;33m=\u001b[0m \u001b[1;34m'tradingsymbol'\u001b[0m\u001b[1;33m\u001b[0m\u001b[1;33m\u001b[0m\u001b[0m\n\u001b[0;32m      3\u001b[0m \u001b[0moc1\u001b[0m \u001b[1;33m=\u001b[0m \u001b[0moc\u001b[0m\u001b[1;33m.\u001b[0m\u001b[0mmerge\u001b[0m\u001b[1;33m(\u001b[0m\u001b[0minspd\u001b[0m\u001b[1;33m,\u001b[0m\u001b[0mon\u001b[0m\u001b[1;33m=\u001b[0m\u001b[1;34m'tradingsymbol'\u001b[0m\u001b[1;33m)\u001b[0m\u001b[1;33m[\u001b[0m\u001b[1;33m[\u001b[0m\u001b[1;34m'strike'\u001b[0m\u001b[1;33m,\u001b[0m\u001b[1;34m'oi'\u001b[0m\u001b[1;33m,\u001b[0m\u001b[1;34m'volume'\u001b[0m\u001b[1;33m,\u001b[0m\u001b[1;34m'last_price'\u001b[0m\u001b[1;33m]\u001b[0m\u001b[1;33m]\u001b[0m\u001b[1;33m\u001b[0m\u001b[1;33m\u001b[0m\u001b[0m\n",
      "\u001b[1;31mNameError\u001b[0m: name 'pd' is not defined"
     ]
    }
   ],
   "source": [
    "oc = pd.DataFrame(qt).T\n",
    "oc.index.name = 'tradingsymbol'\n",
    "oc1 = oc.merge(inspd,on='tradingsymbol')[['strike','oi','volume','last_price']] \n"
   ]
  },
  {
   "cell_type": "code",
   "execution_count": 2,
   "metadata": {},
   "outputs": [
    {
     "name": "stdout",
     "output_type": "stream",
     "text": [
      "connection active\n"
     ]
    }
   ],
   "source": [
    "scrip = ['TATAPOWER']\n",
    "expiry_list = [expiry1,expiry2,expiry3]\n",
    "oc = mu.kite_OC(scrip,expiry_list)\n",
    "oc.reset_index(inplace=True)"
   ]
  },
  {
   "cell_type": "code",
   "execution_count": 6,
   "metadata": {},
   "outputs": [
    {
     "data": {
      "text/plain": [
       "False"
      ]
     },
     "execution_count": 6,
     "metadata": {},
     "output_type": "execute_result"
    }
   ],
   "source": [
    "8 in [1,3,4,5]"
   ]
  },
  {
   "cell_type": "code",
   "execution_count": 6,
   "metadata": {},
   "outputs": [
    {
     "data": {
      "text/html": [
       "<div>\n",
       "<style scoped>\n",
       "    .dataframe tbody tr th:only-of-type {\n",
       "        vertical-align: middle;\n",
       "    }\n",
       "\n",
       "    .dataframe tbody tr th {\n",
       "        vertical-align: top;\n",
       "    }\n",
       "\n",
       "    .dataframe thead th {\n",
       "        text-align: right;\n",
       "    }\n",
       "</style>\n",
       "<table border=\"1\" class=\"dataframe\">\n",
       "  <thead>\n",
       "    <tr style=\"text-align: right;\">\n",
       "      <th></th>\n",
       "      <th>tradingsymbol</th>\n",
       "      <th>strike</th>\n",
       "      <th>oi</th>\n",
       "      <th>volume</th>\n",
       "      <th>last_price</th>\n",
       "    </tr>\n",
       "  </thead>\n",
       "  <tbody>\n",
       "    <tr>\n",
       "      <th>36</th>\n",
       "      <td>NFO:AXISBANK23AUG900CE</td>\n",
       "      <td>900.0</td>\n",
       "      <td>106875</td>\n",
       "      <td>3750</td>\n",
       "      <td>72</td>\n",
       "    </tr>\n",
       "    <tr>\n",
       "      <th>2</th>\n",
       "      <td>NFO:AXISBANK23AUG1100CE</td>\n",
       "      <td>1100.0</td>\n",
       "      <td>376875</td>\n",
       "      <td>35625</td>\n",
       "      <td>0.15</td>\n",
       "    </tr>\n",
       "    <tr>\n",
       "      <th>4</th>\n",
       "      <td>NFO:AXISBANK23AUG1110CE</td>\n",
       "      <td>1110.0</td>\n",
       "      <td>95625</td>\n",
       "      <td>12500</td>\n",
       "      <td>0.05</td>\n",
       "    </tr>\n",
       "    <tr>\n",
       "      <th>6</th>\n",
       "      <td>NFO:AXISBANK23AUG1120CE</td>\n",
       "      <td>1120.0</td>\n",
       "      <td>73750</td>\n",
       "      <td>625</td>\n",
       "      <td>0.25</td>\n",
       "    </tr>\n",
       "    <tr>\n",
       "      <th>10</th>\n",
       "      <td>NFO:AXISBANK23AUG1140CE</td>\n",
       "      <td>1140.0</td>\n",
       "      <td>141250</td>\n",
       "      <td>1250</td>\n",
       "      <td>0.15</td>\n",
       "    </tr>\n",
       "  </tbody>\n",
       "</table>\n",
       "</div>"
      ],
      "text/plain": [
       "              tradingsymbol  strike      oi volume last_price\n",
       "36   NFO:AXISBANK23AUG900CE   900.0  106875   3750         72\n",
       "2   NFO:AXISBANK23AUG1100CE  1100.0  376875  35625       0.15\n",
       "4   NFO:AXISBANK23AUG1110CE  1110.0   95625  12500       0.05\n",
       "6   NFO:AXISBANK23AUG1120CE  1120.0   73750    625       0.25\n",
       "10  NFO:AXISBANK23AUG1140CE  1140.0  141250   1250       0.15"
      ]
     },
     "execution_count": 6,
     "metadata": {},
     "output_type": "execute_result"
    }
   ],
   "source": [
    "oc.loc[oc['tradingsymbol'].str[-2:] == 'CE'].sort_values(by='oi',ascending=False).head(5).sort_values(by='strike')"
   ]
  },
  {
   "cell_type": "code",
   "execution_count": 7,
   "metadata": {},
   "outputs": [
    {
     "data": {
      "text/html": [
       "<div>\n",
       "<style scoped>\n",
       "    .dataframe tbody tr th:only-of-type {\n",
       "        vertical-align: middle;\n",
       "    }\n",
       "\n",
       "    .dataframe tbody tr th {\n",
       "        vertical-align: top;\n",
       "    }\n",
       "\n",
       "    .dataframe thead th {\n",
       "        text-align: right;\n",
       "    }\n",
       "</style>\n",
       "<table border=\"1\" class=\"dataframe\">\n",
       "  <thead>\n",
       "    <tr style=\"text-align: right;\">\n",
       "      <th></th>\n",
       "      <th>tradingsymbol</th>\n",
       "      <th>strike</th>\n",
       "      <th>oi</th>\n",
       "      <th>volume</th>\n",
       "      <th>last_price</th>\n",
       "    </tr>\n",
       "  </thead>\n",
       "  <tbody>\n",
       "    <tr>\n",
       "      <th>17</th>\n",
       "      <td>NFO:AXISBANK23AUG800PE</td>\n",
       "      <td>800.0</td>\n",
       "      <td>78125</td>\n",
       "      <td>2500</td>\n",
       "      <td>0.1</td>\n",
       "    </tr>\n",
       "    <tr>\n",
       "      <th>27</th>\n",
       "      <td>NFO:AXISBANK23AUG850PE</td>\n",
       "      <td>850.0</td>\n",
       "      <td>243750</td>\n",
       "      <td>21250</td>\n",
       "      <td>0.15</td>\n",
       "    </tr>\n",
       "    <tr>\n",
       "      <th>31</th>\n",
       "      <td>NFO:AXISBANK23AUG870PE</td>\n",
       "      <td>870.0</td>\n",
       "      <td>104375</td>\n",
       "      <td>2500</td>\n",
       "      <td>0.1</td>\n",
       "    </tr>\n",
       "    <tr>\n",
       "      <th>33</th>\n",
       "      <td>NFO:AXISBANK23AUG880PE</td>\n",
       "      <td>880.0</td>\n",
       "      <td>95625</td>\n",
       "      <td>3125</td>\n",
       "      <td>0.2</td>\n",
       "    </tr>\n",
       "    <tr>\n",
       "      <th>35</th>\n",
       "      <td>NFO:AXISBANK23AUG890PE</td>\n",
       "      <td>890.0</td>\n",
       "      <td>82500</td>\n",
       "      <td>6250</td>\n",
       "      <td>0.2</td>\n",
       "    </tr>\n",
       "  </tbody>\n",
       "</table>\n",
       "</div>"
      ],
      "text/plain": [
       "             tradingsymbol  strike      oi volume last_price\n",
       "17  NFO:AXISBANK23AUG800PE   800.0   78125   2500        0.1\n",
       "27  NFO:AXISBANK23AUG850PE   850.0  243750  21250       0.15\n",
       "31  NFO:AXISBANK23AUG870PE   870.0  104375   2500        0.1\n",
       "33  NFO:AXISBANK23AUG880PE   880.0   95625   3125        0.2\n",
       "35  NFO:AXISBANK23AUG890PE   890.0   82500   6250        0.2"
      ]
     },
     "execution_count": 7,
     "metadata": {},
     "output_type": "execute_result"
    }
   ],
   "source": [
    "oc.loc[oc['tradingsymbol'].str[-2:] == 'PE'].sort_values(by='oi',ascending=False).head(5).sort_values(by='strike')"
   ]
  },
  {
   "cell_type": "code",
   "execution_count": 25,
   "metadata": {},
   "outputs": [],
   "source": [
    "name = 'TATAPOWER'\n",
    "oi_tree = oc[oc['name'] == name]\n",
    "for expiry in sorted(set(list(oc['expiry'])),reverse=True):\n",
    "    oi_tree['oi_ce'+str(expiry)] = oc.loc[(oc['tradingsymbol'].str[-2:] == 'CE') & (oc['expiry'] == expiry),'oi']/oc[(oc['tradingsymbol'].str[-2:] == 'CE') & (oc['expiry'] == expiry)]['oi'].sum()\n",
    "    oi_tree['oi_pe'+str(expiry)] = -oc.loc[(oc['tradingsymbol'].str[-2:] == 'PE') & (oc['expiry'] == expiry),'oi']/oc[(oc['tradingsymbol'].str[-2:] == 'PE') & (oc['expiry'] == expiry)]['oi'].sum()\n",
    "oi_tree.fillna(0,inplace=True)"
   ]
  },
  {
   "cell_type": "code",
   "execution_count": 4,
   "metadata": {},
   "outputs": [
    {
     "data": {
      "text/html": [
       "<div>\n",
       "<style scoped>\n",
       "    .dataframe tbody tr th:only-of-type {\n",
       "        vertical-align: middle;\n",
       "    }\n",
       "\n",
       "    .dataframe tbody tr th {\n",
       "        vertical-align: top;\n",
       "    }\n",
       "\n",
       "    .dataframe thead th {\n",
       "        text-align: right;\n",
       "    }\n",
       "</style>\n",
       "<table border=\"1\" class=\"dataframe\">\n",
       "  <thead>\n",
       "    <tr style=\"text-align: right;\">\n",
       "      <th></th>\n",
       "      <th>tradingsymbol</th>\n",
       "      <th>name</th>\n",
       "      <th>strike</th>\n",
       "      <th>oi</th>\n",
       "      <th>volume</th>\n",
       "      <th>last_price</th>\n",
       "      <th>expiry</th>\n",
       "      <th>oi_ce2023-10-26</th>\n",
       "      <th>oi_pe2023-10-26</th>\n",
       "      <th>oi_ce2023-09-28</th>\n",
       "      <th>oi_pe2023-09-28</th>\n",
       "      <th>oi_ce2023-08-31</th>\n",
       "      <th>oi_pe2023-08-31</th>\n",
       "    </tr>\n",
       "  </thead>\n",
       "  <tbody>\n",
       "    <tr>\n",
       "      <th>0</th>\n",
       "      <td>NFO:TATAPOWER23AUG205CE</td>\n",
       "      <td>TATAPOWER</td>\n",
       "      <td>205.0</td>\n",
       "      <td>6750</td>\n",
       "      <td>0</td>\n",
       "      <td>42.40</td>\n",
       "      <td>2023-08-31</td>\n",
       "      <td>0.0</td>\n",
       "      <td>0.0</td>\n",
       "      <td>0.000000</td>\n",
       "      <td>0.000000</td>\n",
       "      <td>0.000402</td>\n",
       "      <td>0.000000</td>\n",
       "    </tr>\n",
       "    <tr>\n",
       "      <th>1</th>\n",
       "      <td>NFO:TATAPOWER23AUG205PE</td>\n",
       "      <td>TATAPOWER</td>\n",
       "      <td>205.0</td>\n",
       "      <td>766125</td>\n",
       "      <td>0</td>\n",
       "      <td>0.05</td>\n",
       "      <td>2023-08-31</td>\n",
       "      <td>0.0</td>\n",
       "      <td>0.0</td>\n",
       "      <td>0.000000</td>\n",
       "      <td>0.000000</td>\n",
       "      <td>0.000000</td>\n",
       "      <td>0.034619</td>\n",
       "    </tr>\n",
       "    <tr>\n",
       "      <th>2</th>\n",
       "      <td>NFO:TATAPOWER23AUG207.5CE</td>\n",
       "      <td>TATAPOWER</td>\n",
       "      <td>207.5</td>\n",
       "      <td>13500</td>\n",
       "      <td>0</td>\n",
       "      <td>39.90</td>\n",
       "      <td>2023-08-31</td>\n",
       "      <td>0.0</td>\n",
       "      <td>0.0</td>\n",
       "      <td>0.000000</td>\n",
       "      <td>0.000000</td>\n",
       "      <td>0.000804</td>\n",
       "      <td>0.000000</td>\n",
       "    </tr>\n",
       "    <tr>\n",
       "      <th>3</th>\n",
       "      <td>NFO:TATAPOWER23AUG207.5PE</td>\n",
       "      <td>TATAPOWER</td>\n",
       "      <td>207.5</td>\n",
       "      <td>37125</td>\n",
       "      <td>0</td>\n",
       "      <td>0.05</td>\n",
       "      <td>2023-08-31</td>\n",
       "      <td>0.0</td>\n",
       "      <td>0.0</td>\n",
       "      <td>0.000000</td>\n",
       "      <td>0.000000</td>\n",
       "      <td>0.000000</td>\n",
       "      <td>0.001678</td>\n",
       "    </tr>\n",
       "    <tr>\n",
       "      <th>4</th>\n",
       "      <td>NFO:TATAPOWER23AUG210CE</td>\n",
       "      <td>TATAPOWER</td>\n",
       "      <td>210.0</td>\n",
       "      <td>87750</td>\n",
       "      <td>47250</td>\n",
       "      <td>38.25</td>\n",
       "      <td>2023-08-31</td>\n",
       "      <td>0.0</td>\n",
       "      <td>0.0</td>\n",
       "      <td>0.000000</td>\n",
       "      <td>0.000000</td>\n",
       "      <td>0.005224</td>\n",
       "      <td>0.000000</td>\n",
       "    </tr>\n",
       "    <tr>\n",
       "      <th>...</th>\n",
       "      <td>...</td>\n",
       "      <td>...</td>\n",
       "      <td>...</td>\n",
       "      <td>...</td>\n",
       "      <td>...</td>\n",
       "      <td>...</td>\n",
       "      <td>...</td>\n",
       "      <td>...</td>\n",
       "      <td>...</td>\n",
       "      <td>...</td>\n",
       "      <td>...</td>\n",
       "      <td>...</td>\n",
       "      <td>...</td>\n",
       "    </tr>\n",
       "    <tr>\n",
       "      <th>122</th>\n",
       "      <td>NFO:TATAPOWER23SEP255CE</td>\n",
       "      <td>TATAPOWER</td>\n",
       "      <td>255.0</td>\n",
       "      <td>2170125</td>\n",
       "      <td>1188000</td>\n",
       "      <td>5.90</td>\n",
       "      <td>2023-09-28</td>\n",
       "      <td>0.0</td>\n",
       "      <td>0.0</td>\n",
       "      <td>0.096532</td>\n",
       "      <td>0.000000</td>\n",
       "      <td>0.000000</td>\n",
       "      <td>0.000000</td>\n",
       "    </tr>\n",
       "    <tr>\n",
       "      <th>123</th>\n",
       "      <td>NFO:TATAPOWER23SEP255PE</td>\n",
       "      <td>TATAPOWER</td>\n",
       "      <td>255.0</td>\n",
       "      <td>172125</td>\n",
       "      <td>20250</td>\n",
       "      <td>11.40</td>\n",
       "      <td>2023-09-28</td>\n",
       "      <td>0.0</td>\n",
       "      <td>0.0</td>\n",
       "      <td>0.000000</td>\n",
       "      <td>0.010343</td>\n",
       "      <td>0.000000</td>\n",
       "      <td>0.000000</td>\n",
       "    </tr>\n",
       "    <tr>\n",
       "      <th>124</th>\n",
       "      <td>NFO:TATAPOWER23SEP257.5CE</td>\n",
       "      <td>TATAPOWER</td>\n",
       "      <td>257.5</td>\n",
       "      <td>175500</td>\n",
       "      <td>405000</td>\n",
       "      <td>5.00</td>\n",
       "      <td>2023-09-28</td>\n",
       "      <td>0.0</td>\n",
       "      <td>0.0</td>\n",
       "      <td>0.007807</td>\n",
       "      <td>0.000000</td>\n",
       "      <td>0.000000</td>\n",
       "      <td>0.000000</td>\n",
       "    </tr>\n",
       "    <tr>\n",
       "      <th>125</th>\n",
       "      <td>NFO:TATAPOWER23SEP257.5PE</td>\n",
       "      <td>TATAPOWER</td>\n",
       "      <td>257.5</td>\n",
       "      <td>0</td>\n",
       "      <td>0</td>\n",
       "      <td>0.00</td>\n",
       "      <td>2023-09-28</td>\n",
       "      <td>0.0</td>\n",
       "      <td>0.0</td>\n",
       "      <td>0.000000</td>\n",
       "      <td>0.000000</td>\n",
       "      <td>0.000000</td>\n",
       "      <td>0.000000</td>\n",
       "    </tr>\n",
       "    <tr>\n",
       "      <th>126</th>\n",
       "      <td>NFO:TATAPOWER23SEP260CE</td>\n",
       "      <td>TATAPOWER</td>\n",
       "      <td>260.0</td>\n",
       "      <td>6493500</td>\n",
       "      <td>3344625</td>\n",
       "      <td>4.30</td>\n",
       "      <td>2023-09-28</td>\n",
       "      <td>0.0</td>\n",
       "      <td>0.0</td>\n",
       "      <td>0.288846</td>\n",
       "      <td>0.000000</td>\n",
       "      <td>0.000000</td>\n",
       "      <td>0.000000</td>\n",
       "    </tr>\n",
       "  </tbody>\n",
       "</table>\n",
       "<p>127 rows × 13 columns</p>\n",
       "</div>"
      ],
      "text/plain": [
       "                 tradingsymbol       name  strike       oi   volume  \\\n",
       "0      NFO:TATAPOWER23AUG205CE  TATAPOWER   205.0     6750        0   \n",
       "1      NFO:TATAPOWER23AUG205PE  TATAPOWER   205.0   766125        0   \n",
       "2    NFO:TATAPOWER23AUG207.5CE  TATAPOWER   207.5    13500        0   \n",
       "3    NFO:TATAPOWER23AUG207.5PE  TATAPOWER   207.5    37125        0   \n",
       "4      NFO:TATAPOWER23AUG210CE  TATAPOWER   210.0    87750    47250   \n",
       "..                         ...        ...     ...      ...      ...   \n",
       "122    NFO:TATAPOWER23SEP255CE  TATAPOWER   255.0  2170125  1188000   \n",
       "123    NFO:TATAPOWER23SEP255PE  TATAPOWER   255.0   172125    20250   \n",
       "124  NFO:TATAPOWER23SEP257.5CE  TATAPOWER   257.5   175500   405000   \n",
       "125  NFO:TATAPOWER23SEP257.5PE  TATAPOWER   257.5        0        0   \n",
       "126    NFO:TATAPOWER23SEP260CE  TATAPOWER   260.0  6493500  3344625   \n",
       "\n",
       "     last_price      expiry  oi_ce2023-10-26  oi_pe2023-10-26  \\\n",
       "0         42.40  2023-08-31              0.0              0.0   \n",
       "1          0.05  2023-08-31              0.0              0.0   \n",
       "2         39.90  2023-08-31              0.0              0.0   \n",
       "3          0.05  2023-08-31              0.0              0.0   \n",
       "4         38.25  2023-08-31              0.0              0.0   \n",
       "..          ...         ...              ...              ...   \n",
       "122        5.90  2023-09-28              0.0              0.0   \n",
       "123       11.40  2023-09-28              0.0              0.0   \n",
       "124        5.00  2023-09-28              0.0              0.0   \n",
       "125        0.00  2023-09-28              0.0              0.0   \n",
       "126        4.30  2023-09-28              0.0              0.0   \n",
       "\n",
       "     oi_ce2023-09-28  oi_pe2023-09-28  oi_ce2023-08-31  oi_pe2023-08-31  \n",
       "0           0.000000         0.000000         0.000402         0.000000  \n",
       "1           0.000000         0.000000         0.000000         0.034619  \n",
       "2           0.000000         0.000000         0.000804         0.000000  \n",
       "3           0.000000         0.000000         0.000000         0.001678  \n",
       "4           0.000000         0.000000         0.005224         0.000000  \n",
       "..               ...              ...              ...              ...  \n",
       "122         0.096532         0.000000         0.000000         0.000000  \n",
       "123         0.000000         0.010343         0.000000         0.000000  \n",
       "124         0.007807         0.000000         0.000000         0.000000  \n",
       "125         0.000000         0.000000         0.000000         0.000000  \n",
       "126         0.288846         0.000000         0.000000         0.000000  \n",
       "\n",
       "[127 rows x 13 columns]"
      ]
     },
     "execution_count": 4,
     "metadata": {},
     "output_type": "execute_result"
    }
   ],
   "source": [
    "oi_tree"
   ]
  },
  {
   "cell_type": "code",
   "execution_count": 36,
   "metadata": {},
   "outputs": [
    {
     "name": "stdout",
     "output_type": "stream",
     "text": [
      "2023-10-26\n",
      "2023-08-31\n",
      "2023-09-28\n"
     ]
    },
    {
     "data": {
      "image/png": "[encoded data removed]",
      "text/plain": [
       "<Figure size 2000x1000 with 6 Axes>"
      ]
     },
     "metadata": {},
     "output_type": "display_data"
    }
   ],
   "source": [
    "import matplotlib.pyplot as plt\n",
    "oi_tree.sort_values(by=['expiry','strike'],ascending=[True,True],inplace=True)\n",
    "fig, ax = plt.subplots(1,3,figsize=(20,10),squeeze=False) \n",
    "\n",
    "#oi_tree[['oi_ce','oi_pe']].plot(kind='barh')\n",
    "i= 0\n",
    "for exp in set(list(oc['expiry'])):\n",
    "    print(exp)\n",
    "    ax1 = ax[0,i]\n",
    "    ax1.set_title(exp)\n",
    "    ax1.grid()\n",
    "    ax2 = ax[0,i].twinx()\n",
    "    x_data = oi_tree[oi_tree['expiry'] == exp]['strike']\n",
    "    y1_data = oi_tree[oi_tree['expiry'] == exp]['oi_ce'+str(exp)]\n",
    "    y2_data = oi_tree[oi_tree['expiry'] == exp]['oi_pe'+str(exp)]\n",
    "    ax1.set_xlabel('OI')\n",
    "    ax1.set_ylabel('STRIKE')\n",
    "    ax1.barh(x_data,y1_data,color='b')\n",
    "\n",
    "    ax2.set_ylabel('STRIKE')\n",
    "    ax2.barh(x_data,y2_data,color='g')\n",
    "\n",
    "#     oi_tree[oi_tree['expiry'] == exp].plot(x='strike', y = 'oi_ce'+str(exp), ax = ax[0,i] ,title = exp, kind='barh',ylabel='OI') \n",
    "#     oi_tree[oi_tree['expiry'] == exp].plot(x='strike', y = 'oi_pe'+str(exp), ax = ax2,title = exp,secondary_y=True, kind='barh',color='g',ylabel='OI') \n",
    "#     ax2.set_ylabel('strike')\n",
    "    i+=1\n",
    "plt.show()"
   ]
  }
 ],
 "metadata": {
  "kernelspec": {
   "display_name": "Python 3 (ipykernel)",
   "language": "python",
   "name": "python3"
  },
  "language_info": {
   "codemirror_mode": {
    "name": "ipython",
    "version": 3
   },
   "file_extension": ".py",
   "mimetype": "text/x-python",
   "name": "python",
   "nbconvert_exporter": "python",
   "pygments_lexer": "ipython3",
   "version": "3.9.19"
  }
 },
 "nbformat": 4,
 "nbformat_minor": 4
}
