{
 "cells": [
  {
   "cell_type": "code",
   "execution_count": 42,
   "metadata": {},
   "outputs": [],
   "source": [
    "import sys,os\n",
    "#sys.path.append(os.path.join(os.path.dirname(__file__), '..'))\n",
    "import datetime #import date, timedelta\n",
    "import pandas as pd #import DataFrame\n",
    "#from sqlalchemy import create_engine\n",
    "import mrigutilities\n",
    "import zipfile,re\n",
    "#from bs4 import BeautifulSoup\n",
    "#from time import sleep\n",
    "import csv\n",
    "\n",
    "write_flag=True\n",
    "today = datetime.date.today()\n",
    "\n",
    "engine = mrigutilities.sql_engine()\n",
    "\n",
    "sql = \"select * from futures_options_history where date = (select max(date) from futures_options_history limit 1) \\\n",
    "        and oi > 50 \\\n",
    "        and instrument in ('FUTSTK','OPTSTK' ) order by symbol, expiry, strike, option_type\"\n",
    "df = pd.read_sql(sql,engine)\n",
    "\n"
   ]
  },
  {
   "cell_type": "code",
   "execution_count": 59,
   "metadata": {},
   "outputs": [
    {
     "name": "stdout",
     "output_type": "stream",
     "text": [
      "    symbol      expiry  strike  call_prem  fut_prem           pnl\n",
      "0      IOC  2023-03-29    79.0      -1.95      1.80 -1.500000e-01\n",
      "1      IOC  2023-03-29    78.0      -0.80      0.80 -2.664535e-15\n",
      "2      IOC  2023-03-29    77.0       0.10     -0.20 -1.000000e-01\n",
      "3      IOC  2023-03-29    76.0       1.20     -1.20 -3.108624e-15\n",
      "4      IOC  2023-03-29    75.0       2.25     -2.20  5.000000e-02\n",
      "..     ...         ...     ...        ...       ...           ...\n",
      "825  CIPLA  2023-03-29   980.0     -23.45     23.85  4.000000e-01\n",
      "826  CIPLA  2023-03-29   970.0     -13.30     13.85  5.500000e-01\n",
      "827  CIPLA  2023-03-29   960.0      -3.60      3.85  2.500000e-01\n",
      "828  CIPLA  2023-03-29   950.0       6.45     -6.15  3.000000e-01\n",
      "829  CIPLA  2023-03-29   940.0      16.00    -16.15 -1.500000e-01\n",
      "\n",
      "[830 rows x 6 columns]\n"
     ]
    }
   ],
   "source": [
    "import numpy as np\n",
    "def find_nearest(array, value):\n",
    "    array = np.asarray(array)\n",
    "    idx = (np.abs(array - value)).argmin()\n",
    "    #return array[idx]\n",
    "    return idx\n",
    "\n",
    "\n",
    "df_100 = df[['date','instrument','symbol','expiry','strike','option_type','close']]\n",
    "\n",
    "df_100_ = []\n",
    "\n",
    "symbols = set(df_100.symbol.values.tolist())\n",
    "for sym in symbols:\n",
    "    exp_dates = list(set(df_100[df_100['symbol'] == sym].expiry.values.tolist()))\n",
    "    exp_date = exp_dates[-1] \n",
    "    fut_price = df_100[((df_100['instrument'] == 'FUTSTK') & (df_100['expiry'] == exp_date) & (df_100['symbol'] == sym))].close.values.tolist()[0]\n",
    "    strike_array = sorted(list(set(df_100[((df_100['instrument'] == 'OPTSTK') & (df_100['expiry'] == exp_date) & (df_100['symbol'] == sym))].strike.values.tolist())))\n",
    "    atm = find_nearest(strike_array, fut_price)\n",
    "    s_h_1,s_h_2,s,s_l_1,s_l_2 = -1,-1,-1,-1,-1\n",
    "    if atm >= 2:\n",
    "        s_h_2,s_h_1,s,s_l_1,s_l_2 = strike_array[atm +2],strike_array[atm +1],strike_array[atm],strike_array[atm -1],strike_array[atm - 2]\n",
    "        for strk in [s_h_2,s_h_1,s,s_l_1,s_l_2]:\n",
    "            #print(sym+' - '+str(strk))\n",
    "            try:\n",
    "                ce_pe = np.nan\n",
    "                ce_pe = df_100[((df_100['strike'] == strk) & (df_100['expiry'] == exp_date) & (df_100['symbol'] == sym) & (df_100['option_type'] == 'CE'))].close.values.tolist()[0] - \\\n",
    "                df_100[((df_100['strike'] == strk) & (df_100['expiry'] == exp_date) & (df_100['symbol'] == sym) & (df_100['option_type'] == 'PE'))].close.values.tolist()[0]\n",
    "                strk_fut = strk - fut_price\n",
    "                df_100_.append([sym,exp_date,strk,ce_pe,strk_fut,ce_pe+strk_fut])\n",
    "            except:\n",
    "                pass\n",
    "    \n",
    "df_100 = pd.DataFrame(df_100_,columns=['symbol','expiry','strike','call_prem','fut_prem','pnl'])\n",
    "print(df_100)                            "
   ]
  },
  {
   "cell_type": "code",
   "execution_count": 64,
   "metadata": {},
   "outputs": [
    {
     "data": {
      "text/html": [
       "<div>\n",
       "<style scoped>\n",
       "    .dataframe tbody tr th:only-of-type {\n",
       "        vertical-align: middle;\n",
       "    }\n",
       "\n",
       "    .dataframe tbody tr th {\n",
       "        vertical-align: top;\n",
       "    }\n",
       "\n",
       "    .dataframe thead th {\n",
       "        text-align: right;\n",
       "    }\n",
       "</style>\n",
       "<table border=\"1\" class=\"dataframe\">\n",
       "  <thead>\n",
       "    <tr style=\"text-align: right;\">\n",
       "      <th></th>\n",
       "      <th>symbol</th>\n",
       "      <th>expiry</th>\n",
       "      <th>strike</th>\n",
       "      <th>call_prem</th>\n",
       "      <th>fut_prem</th>\n",
       "      <th>pnl</th>\n",
       "    </tr>\n",
       "  </thead>\n",
       "  <tbody>\n",
       "    <tr>\n",
       "      <th>495</th>\n",
       "      <td>WIPRO</td>\n",
       "      <td>2023-03-29</td>\n",
       "      <td>405.0</td>\n",
       "      <td>-13.00</td>\n",
       "      <td>12.1</td>\n",
       "      <td>-0.90</td>\n",
       "    </tr>\n",
       "    <tr>\n",
       "      <th>496</th>\n",
       "      <td>WIPRO</td>\n",
       "      <td>2023-03-29</td>\n",
       "      <td>400.0</td>\n",
       "      <td>-7.00</td>\n",
       "      <td>7.1</td>\n",
       "      <td>0.10</td>\n",
       "    </tr>\n",
       "    <tr>\n",
       "      <th>497</th>\n",
       "      <td>WIPRO</td>\n",
       "      <td>2023-03-29</td>\n",
       "      <td>395.0</td>\n",
       "      <td>-2.00</td>\n",
       "      <td>2.1</td>\n",
       "      <td>0.10</td>\n",
       "    </tr>\n",
       "    <tr>\n",
       "      <th>498</th>\n",
       "      <td>WIPRO</td>\n",
       "      <td>2023-03-29</td>\n",
       "      <td>390.0</td>\n",
       "      <td>3.00</td>\n",
       "      <td>-2.9</td>\n",
       "      <td>0.10</td>\n",
       "    </tr>\n",
       "    <tr>\n",
       "      <th>499</th>\n",
       "      <td>WIPRO</td>\n",
       "      <td>2023-03-29</td>\n",
       "      <td>385.0</td>\n",
       "      <td>7.85</td>\n",
       "      <td>-7.9</td>\n",
       "      <td>-0.05</td>\n",
       "    </tr>\n",
       "  </tbody>\n",
       "</table>\n",
       "</div>"
      ],
      "text/plain": [
       "    symbol      expiry  strike  call_prem  fut_prem   pnl\n",
       "495  WIPRO  2023-03-29   405.0     -13.00      12.1 -0.90\n",
       "496  WIPRO  2023-03-29   400.0      -7.00       7.1  0.10\n",
       "497  WIPRO  2023-03-29   395.0      -2.00       2.1  0.10\n",
       "498  WIPRO  2023-03-29   390.0       3.00      -2.9  0.10\n",
       "499  WIPRO  2023-03-29   385.0       7.85      -7.9 -0.05"
      ]
     },
     "execution_count": 64,
     "metadata": {},
     "output_type": "execute_result"
    }
   ],
   "source": [
    "df_100[df_100['symbol'] == 'WIPRO']"
   ]
  },
  {
   "cell_type": "code",
   "execution_count": 2,
   "metadata": {
    "collapsed": true
   },
   "outputs": [],
   "source": []
  },
  {
   "cell_type": "code",
   "execution_count": null,
   "metadata": {},
   "outputs": [],
   "source": []
  },
  {
   "cell_type": "code",
   "execution_count": null,
   "metadata": {
    "collapsed": true
   },
   "outputs": [],
   "source": []
  },
  {
   "cell_type": "code",
   "execution_count": null,
   "metadata": {
    "collapsed": true
   },
   "outputs": [],
   "source": []
  }
 ],
 "metadata": {
  "kernelspec": {
   "display_name": "Python 3 (ipykernel)",
   "language": "python",
   "name": "python3"
  },
  "language_info": {
   "codemirror_mode": {
    "name": "ipython",
    "version": 3
   },
   "file_extension": ".py",
   "mimetype": "text/x-python",
   "name": "python",
   "nbconvert_exporter": "python",
   "pygments_lexer": "ipython3",
   "version": "3.9.12"
  }
 },
 "nbformat": 4,
 "nbformat_minor": 2
}
