{
 "cells": [
  {
   "cell_type": "code",
   "execution_count": 7,
   "metadata": {},
   "outputs": [],
   "source": [
    "import mrigutilities as mu\n",
    "import pandas as pd\n",
    "import mrigstatics \n",
    "engine = mu.sql_engine()\n",
    "engine_mrigweb = mu.sql_engine(dbname=mrigstatics.MRIGWEB[mrigstatics.ENVIRONMENT])\n"
   ]
  },
  {
   "cell_type": "code",
   "execution_count": 30,
   "metadata": {},
   "outputs": [],
   "source": [
    "stock_date = pd.read_sql(\"select series as item,max(date) as last_date from stock_history group by series\",engine)\n",
    "fo_date = pd.read_sql(\"select 'FO' as item,max(date) as last_date from futures_options_history\",engine)\n",
    "mf_date = pd.read_sql(\"select 'MF' as item ,max(nav_date) as last_date from mf_history\",engine)\n",
    "webpage_date = pd.read_sql(\"select 'WEB' as item, max(load_date) as last_date from webpages\",engine_mrigweb)"
   ]
  },
  {
   "cell_type": "code",
   "execution_count": 55,
   "metadata": {},
   "outputs": [
    {
     "data": {
      "text/plain": [
       "last_date    ||EQ - 26-03-2024||IN - 26-03-2024||TRI - 04-0...\n",
       "dtype: object"
      ]
     },
     "execution_count": 55,
     "metadata": {},
     "output_type": "execute_result"
    }
   ],
   "source": [
    "df = pd.concat([stock_date, fo_date,mf_date,webpage_date])\n",
    "df['last_date'] = df['last_date'].apply(lambda x: x.strftime('%d-%m-%Y'))\n",
    "df = df.set_index('item').transpose()\n",
    "status = \"\"\n",
    "for col in df.columns:\n",
    "    status = status +  '||'+col+' - '+df[col]\n",
    "status"
   ]
  },
  {
   "cell_type": "code",
   "execution_count": 16,
   "metadata": {},
   "outputs": [
    {
     "data": {
      "text/html": [
       "<div>\n",
       "<style scoped>\n",
       "    .dataframe tbody tr th:only-of-type {\n",
       "        vertical-align: middle;\n",
       "    }\n",
       "\n",
       "    .dataframe tbody tr th {\n",
       "        vertical-align: top;\n",
       "    }\n",
       "\n",
       "    .dataframe thead th {\n",
       "        text-align: right;\n",
       "    }\n",
       "</style>\n",
       "<table border=\"1\" class=\"dataframe\">\n",
       "  <thead>\n",
       "    <tr style=\"text-align: right;\">\n",
       "      <th></th>\n",
       "      <th>symbol</th>\n",
       "      <th>benchmark</th>\n",
       "    </tr>\n",
       "  </thead>\n",
       "  <tbody>\n",
       "    <tr>\n",
       "      <th>0</th>\n",
       "      <td>20MICRONS</td>\n",
       "      <td>NaN</td>\n",
       "    </tr>\n",
       "    <tr>\n",
       "      <th>1</th>\n",
       "      <td>21STCENMGM</td>\n",
       "      <td>NaN</td>\n",
       "    </tr>\n",
       "    <tr>\n",
       "      <th>2</th>\n",
       "      <td>3IINFOTECH</td>\n",
       "      <td>NIFTY IT</td>\n",
       "    </tr>\n",
       "    <tr>\n",
       "      <th>3</th>\n",
       "      <td>3MINDIA</td>\n",
       "      <td>NaN</td>\n",
       "    </tr>\n",
       "    <tr>\n",
       "      <th>4</th>\n",
       "      <td>3PLAND</td>\n",
       "      <td>NaN</td>\n",
       "    </tr>\n",
       "    <tr>\n",
       "      <th>...</th>\n",
       "      <td>...</td>\n",
       "      <td>...</td>\n",
       "    </tr>\n",
       "    <tr>\n",
       "      <th>1771</th>\n",
       "      <td>ZOTA</td>\n",
       "      <td>NaN</td>\n",
       "    </tr>\n",
       "    <tr>\n",
       "      <th>1772</th>\n",
       "      <td>ZUARI</td>\n",
       "      <td>NaN</td>\n",
       "    </tr>\n",
       "    <tr>\n",
       "      <th>1773</th>\n",
       "      <td>ZUARIGLOB</td>\n",
       "      <td>NaN</td>\n",
       "    </tr>\n",
       "    <tr>\n",
       "      <th>1774</th>\n",
       "      <td>ZYDUSWELL</td>\n",
       "      <td>NaN</td>\n",
       "    </tr>\n",
       "    <tr>\n",
       "      <th>1775</th>\n",
       "      <td>ZYLOG</td>\n",
       "      <td>NaN</td>\n",
       "    </tr>\n",
       "  </tbody>\n",
       "</table>\n",
       "<p>1776 rows × 2 columns</p>\n",
       "</div>"
      ],
      "text/plain": [
       "          symbol benchmark\n",
       "0      20MICRONS       NaN\n",
       "1     21STCENMGM       NaN\n",
       "2     3IINFOTECH  NIFTY IT\n",
       "3        3MINDIA       NaN\n",
       "4         3PLAND       NaN\n",
       "...          ...       ...\n",
       "1771        ZOTA       NaN\n",
       "1772       ZUARI       NaN\n",
       "1773   ZUARIGLOB       NaN\n",
       "1774   ZYDUSWELL       NaN\n",
       "1775       ZYLOG       NaN\n",
       "\n",
       "[1776 rows x 2 columns]"
      ]
     },
     "execution_count": 16,
     "metadata": {},
     "output_type": "execute_result"
    }
   ],
   "source": [
    "industry = pd.read_csv('industry.csv')\n",
    "industry = industry[['symbol','benchmark']]\n",
    "industry"
   ]
  },
  {
   "cell_type": "code",
   "execution_count": 19,
   "metadata": {},
   "outputs": [
    {
     "data": {
      "text/plain": [
       "<sqlalchemy.engine.cursor.LegacyCursorResult at 0x212f63c59d0>"
      ]
     },
     "execution_count": 19,
     "metadata": {},
     "output_type": "execute_result"
    }
   ],
   "source": [
    "sql = '''\n",
    "drop table if exists temp_scm;\n",
    "\n",
    "create table temp_scm \n",
    "(\n",
    "  symbol text not null,\n",
    "  benchmark text\n",
    ");\n",
    "'''\n",
    "engine.execute(sql)\n",
    "\n",
    "industry.to_sql('temp_scm',engine, if_exists='append', index=False)\n",
    "sql = '''\n",
    "update security_master \n",
    "set benchmark = ts.benchmark\n",
    "from temp_scm as ts\n",
    "where security_master.symbol = ts.symbol\n",
    "'''\n",
    "engine.execute(sql)\n"
   ]
  }
 ],
 "metadata": {
  "kernelspec": {
   "display_name": "Python 3 (ipykernel)",
   "language": "python",
   "name": "python3"
  },
  "language_info": {
   "codemirror_mode": {
    "name": "ipython",
    "version": 3
   },
   "file_extension": ".py",
   "mimetype": "text/x-python",
   "name": "python",
   "nbconvert_exporter": "python",
   "pygments_lexer": "ipython3",
   "version": "3.9.19"
  }
 },
 "nbformat": 4,
 "nbformat_minor": 4
}
