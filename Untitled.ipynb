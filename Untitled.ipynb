{
 "cells": [
  {
   "cell_type": "code",
   "execution_count": 1,
   "metadata": {
    "collapsed": true
   },
   "outputs": [],
   "source": [
    "import mrigutilities as mu\n"
   ]
  },
  {
   "cell_type": "code",
   "execution_count": null,
   "metadata": {
    "collapsed": true
   },
   "outputs": [],
   "source": []
  },
  {
   "cell_type": "code",
   "execution_count": 2,
   "metadata": {
    "collapsed": true
   },
   "outputs": [],
   "source": [
    "icicibank = mu.getStockQuote('ICICIBANK')"
   ]
  },
  {
   "cell_type": "code",
   "execution_count": 3,
   "metadata": {
    "collapsed": false
   },
   "outputs": [
    {
     "data": {
      "text/plain": [
       "{'adhocMargin': '-',\n",
       " 'applicableMargin': 12.5,\n",
       " 'averagePrice': 381.41,\n",
       " 'basePrice': 380.15,\n",
       " 'bcEndDate': '12-SEP-18',\n",
       " 'bcStartDate': '28-AUG-18',\n",
       " 'buyPrice1': 380.0,\n",
       " 'buyPrice2': 379.95,\n",
       " 'buyPrice3': 379.9,\n",
       " 'buyPrice4': 379.85,\n",
       " 'buyPrice5': 379.8,\n",
       " 'buyQuantity1': 864,\n",
       " 'buyQuantity2': 931,\n",
       " 'buyQuantity3': 6972,\n",
       " 'buyQuantity4': 4475,\n",
       " 'buyQuantity5': 6153,\n",
       " 'change': '-',\n",
       " 'closePrice': 0.0,\n",
       " 'cm_adj_high_dt': '09-JAN-19',\n",
       " 'cm_adj_low_dt': '16-JUL-18',\n",
       " 'cm_ffm': 244820.52,\n",
       " 'companyName': 'ICICI Bank Limited',\n",
       " 'css_status_desc': 'Listed',\n",
       " 'dayHigh': 383.15,\n",
       " 'dayLow': 379.35,\n",
       " 'deliveryQuantity': 9407100,\n",
       " 'deliveryToTradedQuantity': 43.75,\n",
       " 'exDate': '24-AUG-18',\n",
       " 'extremeLossMargin': 5.0,\n",
       " 'faceValue': 2.0,\n",
       " 'high52': 383.15,\n",
       " 'indexVar': '-',\n",
       " 'isExDateFlag': False,\n",
       " 'isinCode': 'INE090A01021',\n",
       " 'lastPrice': 380.15,\n",
       " 'low52': 256.5,\n",
       " 'marketType': 'N',\n",
       " 'momentum': 2336909.4,\n",
       " 'ndEndDate': '-',\n",
       " 'ndStartDate': '-',\n",
       " 'open': 381.65,\n",
       " 'pChange': 0.0,\n",
       " 'previousClose': 380.15,\n",
       " 'priceBand': 'No Band',\n",
       " 'pricebandlower': 342.15,\n",
       " 'pricebandupper': 418.15,\n",
       " 'purpose': 'DIVIDEND- RS 1.50 PER SHARE (DATE REVISED)',\n",
       " 'quantityTraded': 21501136,\n",
       " 'recordDate': '-',\n",
       " 'secDate': '8JAN2019',\n",
       " 'securityVar': 5.37,\n",
       " 'sellPrice1': 380.15,\n",
       " 'sellPrice2': 380.2,\n",
       " 'sellPrice3': 380.25,\n",
       " 'sellPrice4': 380.3,\n",
       " 'sellPrice5': 380.35,\n",
       " 'sellQuantity1': 407,\n",
       " 'sellQuantity2': 6198,\n",
       " 'sellQuantity3': 10341,\n",
       " 'sellQuantity4': 10762,\n",
       " 'sellQuantity5': 18302,\n",
       " 'series': 'EQ',\n",
       " 'surv_indicator': '-',\n",
       " 'symbol': 'ICICIBANK',\n",
       " 'totalBuyQuantity': 776303,\n",
       " 'totalSellQuantity': 2171241,\n",
       " 'totalTradedValue': 11160.12,\n",
       " 'totalTradedVolume': 2926016,\n",
       " 'varMargin': 7.5}"
      ]
     },
     "execution_count": 3,
     "metadata": {},
     "output_type": "execute_result"
    }
   ],
   "source": [
    "icicibank"
   ]
  },
  {
   "cell_type": "code",
   "execution_count": null,
   "metadata": {
    "collapsed": true
   },
   "outputs": [],
   "source": []
  },
  {
   "cell_type": "code",
   "execution_count": null,
   "metadata": {
    "collapsed": true
   },
   "outputs": [],
   "source": []
  }
 ],
 "metadata": {
  "kernelspec": {
   "display_name": "Python 3",
   "language": "python",
   "name": "python3"
  },
  "language_info": {
   "codemirror_mode": {
    "name": "ipython",
    "version": 3
   },
   "file_extension": ".py",
   "mimetype": "text/x-python",
   "name": "python",
   "nbconvert_exporter": "python",
   "pygments_lexer": "ipython3",
   "version": "3.6.0"
  }
 },
 "nbformat": 4,
 "nbformat_minor": 2
}
