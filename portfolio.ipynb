{
 "cells": [
  {
   "cell_type": "code",
   "execution_count": 9,
   "id": "6360edcb-b828-457b-81f1-29a103c4da38",
   "metadata": {},
   "outputs": [
    {
     "data": {
      "text/html": [
       "<div>\n",
       "<style scoped>\n",
       "    .dataframe tbody tr th:only-of-type {\n",
       "        vertical-align: middle;\n",
       "    }\n",
       "\n",
       "    .dataframe tbody tr th {\n",
       "        vertical-align: top;\n",
       "    }\n",
       "\n",
       "    .dataframe thead th {\n",
       "        text-align: right;\n",
       "    }\n",
       "</style>\n",
       "<table border=\"1\" class=\"dataframe\">\n",
       "  <thead>\n",
       "    <tr style=\"text-align: right;\">\n",
       "      <th></th>\n",
       "      <th>trade_date</th>\n",
       "      <th>symbol</th>\n",
       "      <th>security_type</th>\n",
       "      <th>underlying</th>\n",
       "      <th>strike</th>\n",
       "      <th>option_type</th>\n",
       "      <th>expiry_date</th>\n",
       "      <th>quantity</th>\n",
       "      <th>price</th>\n",
       "    </tr>\n",
       "  </thead>\n",
       "  <tbody>\n",
       "    <tr>\n",
       "      <th>0</th>\n",
       "      <td>4/2/2024</td>\n",
       "      <td>BANKNIFTY24APRFUT</td>\n",
       "      <td>FUT</td>\n",
       "      <td>BANKNIFTY</td>\n",
       "      <td>NaN</td>\n",
       "      <td>NaN</td>\n",
       "      <td>4/24/2024</td>\n",
       "      <td>15</td>\n",
       "      <td>47932.95</td>\n",
       "    </tr>\n",
       "    <tr>\n",
       "      <th>1</th>\n",
       "      <td>4/2/2024</td>\n",
       "      <td>NIFTY24APRFUT</td>\n",
       "      <td>FUT</td>\n",
       "      <td>NIFTY</td>\n",
       "      <td>NaN</td>\n",
       "      <td>NaN</td>\n",
       "      <td>4/25/2024</td>\n",
       "      <td>50</td>\n",
       "      <td>22540.45</td>\n",
       "    </tr>\n",
       "    <tr>\n",
       "      <th>2</th>\n",
       "      <td>4/2/2024</td>\n",
       "      <td>NIFTY24APR22800CE</td>\n",
       "      <td>OPT</td>\n",
       "      <td>NaN</td>\n",
       "      <td>22800.0</td>\n",
       "      <td>CE</td>\n",
       "      <td>4/25/2024</td>\n",
       "      <td>50</td>\n",
       "      <td>138.40</td>\n",
       "    </tr>\n",
       "  </tbody>\n",
       "</table>\n",
       "</div>"
      ],
      "text/plain": [
       "  trade_date             symbol security_type underlying   strike option_type  \\\n",
       "0   4/2/2024  BANKNIFTY24APRFUT           FUT  BANKNIFTY      NaN         NaN   \n",
       "1   4/2/2024      NIFTY24APRFUT           FUT      NIFTY      NaN         NaN   \n",
       "2   4/2/2024  NIFTY24APR22800CE           OPT        NaN  22800.0          CE   \n",
       "\n",
       "  expiry_date  quantity     price  \n",
       "0   4/24/2024        15  47932.95  \n",
       "1   4/25/2024        50  22540.45  \n",
       "2   4/25/2024        50    138.40  "
      ]
     },
     "execution_count": 9,
     "metadata": {},
     "output_type": "execute_result"
    }
   ],
   "source": [
    "import os\n",
    "import pandas as pd\n",
    "\n",
    "path = \"F:\\\\Mrig Analytics\\\\mediafiles\\\\downloads\\\\equity_options_futures.csv\"\n",
    "\n",
    "f = pd.read_csv(path)\n",
    "f"
   ]
  }
 ],
 "metadata": {
  "kernelspec": {
   "display_name": "Python 3 (ipykernel)",
   "language": "python",
   "name": "python3"
  },
  "language_info": {
   "codemirror_mode": {
    "name": "ipython",
    "version": 3
   },
   "file_extension": ".py",
   "mimetype": "text/x-python",
   "name": "python",
   "nbconvert_exporter": "python",
   "pygments_lexer": "ipython3",
   "version": "3.11.7"
  }
 },
 "nbformat": 4,
 "nbformat_minor": 5
}
