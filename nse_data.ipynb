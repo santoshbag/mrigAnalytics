{
 "cells": [
  {
   "cell_type": "code",
   "execution_count": 3,
   "id": "902ad39d",
   "metadata": {},
   "outputs": [
    {
     "name": "stdout",
     "output_type": "stream",
     "text": [
      "[datetime.date(2024, 4, 8), datetime.date(2024, 4, 9)]\n"
     ]
    }
   ],
   "source": [
    "from datetime import date\n",
    "from jugaad_data.nse import bhavcopy_save,bhavcopy_index_save,bhavcopy_fo_save\n",
    "import pandas as pd\n",
    "from jugaad_data.holidays import holidays\n",
    "import sys,os\n",
    "import mrigutilities as mu\n",
    "\n",
    "eq_dir = os.path.join('..','data','input')\n",
    "eq_processed_dir = os.path.join('..','data','processed')\n",
    "\n",
    "\n",
    "date_range = pd.bdate_range(start='04/08/2024', end = '04/09/2024', \n",
    "                         freq='C', holidays = holidays(2024,12))\n",
    "\n",
    "dates = [x.date() for x in date_range]\n",
    "\n",
    "print(dates)\n"
   ]
  },
  {
   "cell_type": "code",
   "execution_count": 4,
   "id": "c65d4355",
   "metadata": {},
   "outputs": [
    {
     "name": "stdout",
     "output_type": "stream",
     "text": [
      "2024-04-08: File not Found\n",
      "2024-04-09: File not Found\n"
     ]
    }
   ],
   "source": [
    "from random import randint\n",
    "import time\n",
    "\n",
    "for dates in dates:\n",
    "     try:\n",
    "        bhavcopy_save(dates, eq_dir)\n",
    "        bhavcopy_index_save(dates, eq_dir)\n",
    "        bhavcopy_fo_save(dates, eq_dir)\n",
    "        time.sleep(randint(1,4)) #adding random delay of 1-4 seconds\n",
    "\n",
    "#      except (ConnectionError, ReadTimeoutError) as e:\n",
    "     except:\n",
    "        time.sleep(10) #stop program for 10 seconds and try again.\n",
    "        try:\n",
    "            bhavcopy_save(dates, eq_dir)\n",
    "            bhavcopy_index_save(dates, eq_dir)\n",
    "            bhavcopy_fo_save(dates, eq_dir)\n",
    "            time.sleep(randint(1,4))\n",
    "        except:\n",
    "            print(f'{dates}: File not Found')"
   ]
  },
  {
   "cell_type": "code",
   "execution_count": 4,
   "id": "6328b88b",
   "metadata": {},
   "outputs": [
    {
     "name": "stdout",
     "output_type": "stream",
     "text": [
      "20240403\n",
      "Populating Index Constituent\n"
     ]
    }
   ],
   "source": [
    "import requests\n",
    "from io import StringIO\n",
    "\n",
    "urls = {'NIFTY 100' : 'https://nsearchives.nseindia.com/content/indices/ind_nifty100list.csv',\n",
    "        'NIFTY 50' : 'https://nsearchives.nseindia.com/content/indices/ind_nifty50list.csv'\n",
    "       }\n",
    "headers = {'User-Agent': 'Mozilla/5.0 (X11; Ubuntu; Linux x86_64; rv:77.0) Gecko/20100101 Firefox/77.0'}\n",
    "\n",
    "result = {}\n",
    "# print(headers)\n",
    "for key in urls.keys():\n",
    "    req = requests.get(urls[key], headers=headers)\n",
    "    # print(req)\n",
    "    data = StringIO(req.text)\n",
    "    df = pd.read_csv(data)\n",
    "    result[key] = str(df['Symbol'].tolist())\n",
    "engine = mu.sql_engine()\n",
    "date = engine.execute(\"select max(date) from stock_history where symbol='NIFTY 50'\").fetchall()[0][0]\n",
    "disable_sql = \"alter table stock_history disable trigger return_trigger\"\n",
    "enable_sql = \"alter table stock_history enable trigger return_trigger\"\n",
    "engine.execute(disable_sql)\n",
    "print(str(date).replace('-',''))\n",
    "print(\"Populating Index Constituent\")\n",
    "# usql =  \"update stock_history set index_members = %s where symbol = %s and date = %s\"\n",
    "# engine.execute(usql,(result['NIFTY 50'],'NIFTY 50',(str(date).replace('-',''))))\n",
    "for key in result.keys():\n",
    "    usql = \"\"\n",
    "    usql =  \"update stock_history set index_members = %s where symbol = %s and date = %s\"\n",
    "    engine.execute(usql,(result[key],key,(str(date).replace('-',''))))\n",
    "# n50 = pd.read_csv(n50_url)\n",
    "# n100 = pd.read_csv(n100_url)\n",
    "\n",
    "# print(n50)"
   ]
  },
  {
   "cell_type": "code",
   "execution_count": 20,
   "id": "9897493b-43e6-47a8-be13-761cd9db9952",
   "metadata": {},
   "outputs": [
    {
     "data": {
      "text/plain": [
       "['ABB',\n",
       " 'ADANIENSOL',\n",
       " 'ADANIENT',\n",
       " 'ADANIGREEN',\n",
       " 'ADANIPORTS',\n",
       " 'ADANIPOWER',\n",
       " 'ATGL',\n",
       " 'AMBUJACEM',\n",
       " 'APOLLOHOSP',\n",
       " 'ASIANPAINT',\n",
       " 'DMART',\n",
       " 'AXISBANK',\n",
       " 'BAJAJ-AUTO',\n",
       " 'BAJFINANCE',\n",
       " 'BAJAJFINSV',\n",
       " 'BAJAJHLDNG',\n",
       " 'BANKBARODA',\n",
       " 'BERGEPAINT',\n",
       " 'BEL',\n",
       " 'BPCL',\n",
       " 'BHARTIARTL',\n",
       " 'BOSCHLTD',\n",
       " 'BRITANNIA',\n",
       " 'CANBK',\n",
       " 'CHOLAFIN',\n",
       " 'CIPLA',\n",
       " 'COALINDIA',\n",
       " 'COLPAL',\n",
       " 'DLF',\n",
       " 'DABUR',\n",
       " 'DIVISLAB',\n",
       " 'DRREDDY',\n",
       " 'EICHERMOT',\n",
       " 'GAIL',\n",
       " 'GODREJCP',\n",
       " 'GRASIM',\n",
       " 'HCLTECH',\n",
       " 'HDFCBANK',\n",
       " 'HDFCLIFE',\n",
       " 'HAVELLS',\n",
       " 'HEROMOTOCO',\n",
       " 'HINDALCO',\n",
       " 'HAL',\n",
       " 'HINDUNILVR',\n",
       " 'ICICIBANK',\n",
       " 'ICICIGI',\n",
       " 'ICICIPRULI',\n",
       " 'ITC',\n",
       " 'IOC',\n",
       " 'IRCTC',\n",
       " 'IRFC',\n",
       " 'INDUSINDBK',\n",
       " 'NAUKRI',\n",
       " 'INFY',\n",
       " 'INDIGO',\n",
       " 'JSWSTEEL',\n",
       " 'JINDALSTEL',\n",
       " 'JIOFIN',\n",
       " 'KOTAKBANK',\n",
       " 'LTIM',\n",
       " 'LT',\n",
       " 'LICI',\n",
       " 'M&M',\n",
       " 'MARICO',\n",
       " 'MARUTI',\n",
       " 'NTPC',\n",
       " 'NESTLEIND',\n",
       " 'ONGC',\n",
       " 'PIDILITIND',\n",
       " 'PFC',\n",
       " 'POWERGRID',\n",
       " 'PNB',\n",
       " 'RECLTD',\n",
       " 'RELIANCE',\n",
       " 'SBICARD',\n",
       " 'SBILIFE',\n",
       " 'SRF',\n",
       " 'MOTHERSON',\n",
       " 'SHREECEM',\n",
       " 'SHRIRAMFIN',\n",
       " 'SIEMENS',\n",
       " 'SBIN',\n",
       " 'SUNPHARMA',\n",
       " 'TVSMOTOR',\n",
       " 'TCS',\n",
       " 'TATACONSUM',\n",
       " 'TATAMTRDVR',\n",
       " 'TATAMOTORS',\n",
       " 'TATAPOWER',\n",
       " 'TATASTEEL',\n",
       " 'TECHM',\n",
       " 'TITAN',\n",
       " 'TORNTPHARM',\n",
       " 'TRENT',\n",
       " 'ULTRACEMCO',\n",
       " 'MCDOWELL-N',\n",
       " 'VBL',\n",
       " 'VEDL',\n",
       " 'WIPRO',\n",
       " 'ZOMATO',\n",
       " 'ZYDUSLIFE']"
      ]
     },
     "execution_count": 20,
     "metadata": {},
     "output_type": "execute_result"
    }
   ],
   "source": [
    "import json\n",
    "nifty_100 = engine.execute(\"select index_members from stock_history where symbol='NIFTY 100' and index_members is not NULL order by date desc limit 1\").fetchall()[0][0]\n",
    "nifty_100 = nifty_100.strip('][').split(', ')\n",
    "nifty_100 = [x[1:-1] for x in nifty_100]\n",
    "nifty_100"
   ]
  }
 ],
 "metadata": {
  "kernelspec": {
   "display_name": "Python 3 (ipykernel)",
   "language": "python",
   "name": "python3"
  },
  "language_info": {
   "codemirror_mode": {
    "name": "ipython",
    "version": 3
   },
   "file_extension": ".py",
   "mimetype": "text/x-python",
   "name": "python",
   "nbconvert_exporter": "python",
   "pygments_lexer": "ipython3",
   "version": "3.11.7"
  }
 },
 "nbformat": 4,
 "nbformat_minor": 5
}
