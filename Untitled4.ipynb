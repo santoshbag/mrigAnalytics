{
 "cells": [
  {
   "cell_type": "code",
   "execution_count": 4,
   "metadata": {
    "collapsed": true
   },
   "outputs": [],
   "source": [
    "import stockScreener as ss\n",
    "import mrigutilities as mu"
   ]
  },
  {
   "cell_type": "code",
   "execution_count": 10,
   "metadata": {
    "collapsed": false
   },
   "outputs": [
    {
     "data": {
      "text/plain": [
       "{'adhocMargin': '-',\n",
       " 'applicableMargin': 20.02,\n",
       " 'averagePrice': 27.1,\n",
       " 'basePrice': 28.05,\n",
       " 'bcEndDate': '29-SEP-18',\n",
       " 'bcStartDate': '22-SEP-18',\n",
       " 'buyPrice1': '-',\n",
       " 'buyPrice2': '-',\n",
       " 'buyPrice3': '-',\n",
       " 'buyPrice4': '-',\n",
       " 'buyPrice5': '-',\n",
       " 'buyQuantity1': '-',\n",
       " 'buyQuantity2': '-',\n",
       " 'buyQuantity3': '-',\n",
       " 'buyQuantity4': '-',\n",
       " 'buyQuantity5': '-',\n",
       " 'change': -1.1,\n",
       " 'closePrice': 27.0,\n",
       " 'cm_adj_high_dt': '15-JAN-18',\n",
       " 'cm_adj_low_dt': '20-JUL-18',\n",
       " 'cm_ffm': 784.52,\n",
       " 'companyName': 'Housing Development and Infrastructure Limited',\n",
       " 'css_status_desc': 'Listed',\n",
       " 'dayHigh': 27.95,\n",
       " 'dayLow': 26.65,\n",
       " 'deliveryQuantity': 1406818,\n",
       " 'deliveryToTradedQuantity': 28.8,\n",
       " 'exDate': '19-SEP-18',\n",
       " 'extremeLossMargin': 6.5,\n",
       " 'faceValue': 10.0,\n",
       " 'high52': 69.15,\n",
       " 'indexVar': '-',\n",
       " 'isExDateFlag': False,\n",
       " 'isinCode': 'INE191I01012',\n",
       " 'lastPrice': 26.95,\n",
       " 'low52': 17.45,\n",
       " 'marketType': 'N',\n",
       " 'ndEndDate': '-',\n",
       " 'ndStartDate': '-',\n",
       " 'open': 27.9,\n",
       " 'pChange': -3.92,\n",
       " 'previousClose': 28.05,\n",
       " 'priceBand': 20,\n",
       " 'pricebandlower': 22.45,\n",
       " 'pricebandupper': 33.65,\n",
       " 'purpose': 'ANNUAL GENERAL MEETING',\n",
       " 'quantityTraded': 4885239,\n",
       " 'recordDate': '-',\n",
       " 'secDate': '11JAN2019',\n",
       " 'securityVar': 13.52,\n",
       " 'sellPrice1': 27.0,\n",
       " 'sellPrice2': '-',\n",
       " 'sellPrice3': '-',\n",
       " 'sellPrice4': '-',\n",
       " 'sellPrice5': '-',\n",
       " 'sellQuantity1': 64312,\n",
       " 'sellQuantity2': '-',\n",
       " 'sellQuantity3': '-',\n",
       " 'sellQuantity4': '-',\n",
       " 'sellQuantity5': '-',\n",
       " 'series': 'EQ',\n",
       " 'surv_indicator': '-',\n",
       " 'symbol': 'HDIL',\n",
       " 'totalBuyQuantity': '-',\n",
       " 'totalSellQuantity': 64312,\n",
       " 'totalTradedValue': 1323.9,\n",
       " 'totalTradedVolume': 4885239,\n",
       " 'varMargin': 13.52}"
      ]
     },
     "execution_count": 10,
     "metadata": {},
     "output_type": "execute_result"
    }
   ],
   "source": [
    "mu.getStockQuote('HDIL')"
   ]
  },
  {
   "cell_type": "code",
   "execution_count": 3,
   "metadata": {
    "collapsed": false
   },
   "outputs": [
    {
     "data": {
      "text/html": [
       "<div>\n",
       "<table border=\"1\" class=\"dataframe\">\n",
       "  <thead>\n",
       "    <tr style=\"text-align: right;\">\n",
       "      <th></th>\n",
       "      <th>ret24W</th>\n",
       "      <th>ret12W</th>\n",
       "      <th>ret4W</th>\n",
       "    </tr>\n",
       "    <tr>\n",
       "      <th>symbol</th>\n",
       "      <th></th>\n",
       "      <th></th>\n",
       "      <th></th>\n",
       "    </tr>\n",
       "  </thead>\n",
       "  <tbody>\n",
       "    <tr>\n",
       "      <th>PRAJIND</th>\n",
       "      <td>0.593244</td>\n",
       "      <td>0.299505</td>\n",
       "      <td>0.354517</td>\n",
       "    </tr>\n",
       "    <tr>\n",
       "      <th>SPLIL</th>\n",
       "      <td>1.022844</td>\n",
       "      <td>0.625411</td>\n",
       "      <td>0.338397</td>\n",
       "    </tr>\n",
       "    <tr>\n",
       "      <th>PFC</th>\n",
       "      <td>0.277780</td>\n",
       "      <td>0.304849</td>\n",
       "      <td>0.169933</td>\n",
       "    </tr>\n",
       "    <tr>\n",
       "      <th>HDIL</th>\n",
       "      <td>0.195028</td>\n",
       "      <td>0.177284</td>\n",
       "      <td>0.132474</td>\n",
       "    </tr>\n",
       "    <tr>\n",
       "      <th>UBL</th>\n",
       "      <td>0.207966</td>\n",
       "      <td>0.148701</td>\n",
       "      <td>0.090861</td>\n",
       "    </tr>\n",
       "    <tr>\n",
       "      <th>ICICIBANK</th>\n",
       "      <td>0.234850</td>\n",
       "      <td>0.161705</td>\n",
       "      <td>0.073001</td>\n",
       "    </tr>\n",
       "    <tr>\n",
       "      <th>BATAINDIA</th>\n",
       "      <td>0.221692</td>\n",
       "      <td>0.245715</td>\n",
       "      <td>0.055691</td>\n",
       "    </tr>\n",
       "    <tr>\n",
       "      <th>APOLLOHOSP</th>\n",
       "      <td>0.295362</td>\n",
       "      <td>0.112300</td>\n",
       "      <td>0.034950</td>\n",
       "    </tr>\n",
       "    <tr>\n",
       "      <th>STAR</th>\n",
       "      <td>0.282336</td>\n",
       "      <td>0.118538</td>\n",
       "      <td>0.034605</td>\n",
       "    </tr>\n",
       "    <tr>\n",
       "      <th>DIVISLAB</th>\n",
       "      <td>0.277034</td>\n",
       "      <td>0.124114</td>\n",
       "      <td>0.009177</td>\n",
       "    </tr>\n",
       "  </tbody>\n",
       "</table>\n",
       "</div>"
      ],
      "text/plain": [
       "              ret24W    ret12W     ret4W\n",
       "symbol                                  \n",
       "PRAJIND     0.593244  0.299505  0.354517\n",
       "SPLIL       1.022844  0.625411  0.338397\n",
       "PFC         0.277780  0.304849  0.169933\n",
       "HDIL        0.195028  0.177284  0.132474\n",
       "UBL         0.207966  0.148701  0.090861\n",
       "ICICIBANK   0.234850  0.161705  0.073001\n",
       "BATAINDIA   0.221692  0.245715  0.055691\n",
       "APOLLOHOSP  0.295362  0.112300  0.034950\n",
       "STAR        0.282336  0.118538  0.034605\n",
       "DIVISLAB    0.277034  0.124114  0.009177"
      ]
     },
     "execution_count": 3,
     "metadata": {},
     "output_type": "execute_result"
    }
   ],
   "source": [
    "bigM"
   ]
  },
  {
   "cell_type": "code",
   "execution_count": null,
   "metadata": {
    "collapsed": true
   },
   "outputs": [],
   "source": []
  }
 ],
 "metadata": {
  "kernelspec": {
   "display_name": "Python 3",
   "language": "python",
   "name": "python3"
  },
  "language_info": {
   "codemirror_mode": {
    "name": "ipython",
    "version": 3
   },
   "file_extension": ".py",
   "mimetype": "text/x-python",
   "name": "python",
   "nbconvert_exporter": "python",
   "pygments_lexer": "ipython3",
   "version": "3.6.0"
  }
 },
 "nbformat": 4,
 "nbformat_minor": 2
}
